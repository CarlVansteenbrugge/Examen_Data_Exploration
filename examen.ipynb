{
 "cells": [
  {
   "cell_type": "markdown",
   "metadata": {},
   "source": [
    "# Examen Data Scientist - Data analyseren in Python\n",
    "## Introductie\n",
    "Voor dit examen is het belangrijk dat je volgende zaken zeker doet:\n",
    " - Maak een Vitual Environment aan & exporteer een `.yml` (of soortgelijke) file aan die je toevoegt aan je codebase.\n",
    " - Maak een github pagina aan met een bijhorende `.gitignore` en `readme.md`. Voeg een link naar de github repo toe aan je readme file.\n",
    " - Zorg dat je op het einde de tijd neemt om je code op te schonen zodat deze begrijpelijk is voor derden.\n",
    " - Wanneer je klaar bent, maak een `.zip` bestand van je volledige codebase aan en laad deze op in de leeromgeving.\n",
    "\n",
    "In deze opgave bekijken we een gesimuleerde dataset over de geboortes in België van 2019. De data is te vinden in `.csv` bestanden die gelabeld zijn met de echte geboortedag van de personen in het bestand. Laat ons bijvoorbeeld even kijken naar de eerste 5 lijnen van het bestand `2019-1-1.csv`:\n",
    "\n",
    "<table align=\"center\">\n",
    "  <tr>\n",
    "    <th>gemeente</th>\n",
    "    <th>naam</th>\n",
    "    <th>geslacht</th>\n",
    "    <th>verwachte datum</th>\n",
    "  </tr>\n",
    "  <tr>\n",
    "    <td>Hooglede</td>\n",
    "    <td>Elias</td>\n",
    "    <td>Mannelijk</td>\n",
    "    <td>01/14/2019</td>\n",
    "  </tr>\n",
    "  <tr>\n",
    "    <td>Sint-Niklaas (Sint-Niklaas)</td>\n",
    "    <td>Pauline</td>\n",
    "    <td>Vrouwelijk</td>\n",
    "    <td>01/05/2019</td>\n",
    "  </tr>\n",
    "  <tr>\n",
    "    <td>Wijnegem</td>\n",
    "    <td>Anita</td>\n",
    "    <td>Vrouwelijk</td>\n",
    "    <td>01/05/2019</td>\n",
    "  </tr>\n",
    "  <tr>\n",
    "    <td>Grâce-Hollogne</td>\n",
    "    <td>Jean-Paul</td>\n",
    "    <td>Mannelijk</td>\n",
    "    <td>01/13/2019</td>\n",
    "  </tr>\n",
    "  <tr>\n",
    "    <td>Boussu</td>\n",
    "    <td>François</td>\n",
    "    <td>Mannelijk</td>\n",
    "    <td>01/26/2019</td>\n",
    "  </tr>\n",
    "</table>\n",
    "\n",
    "\n",
    "Hier hebben we de kolommen:\n",
    " - **gemeente**: De gemeente waar de persoon geboren is.\n",
    " - **naam**: De voornaam van de persoon.\n",
    " - **geslacht**: Het geslacht van de persoon (Mannelijk of Vrouwelijk).\n",
    " - **verwachte datum**: De verwachte geboortedatum van de persoon.\n",
    "\n",
    "Dus hier hebben we dan bijvoorbeeld op de eerste lijn de mannelijke persoon Elias die geboren is in Hooglede waarvan men verwachtte dat hij zou geboren worden op `01/14/2019` (Amerikaans formaat) maar in feite geboren is op 1 januari 2019.\n",
    "\n",
    "Doorheen deze opgave gaan we de data van dichterbij inspecteren! Je kan deze opgaves alternatief lezen in de bijgeleverde notebook `examen.ipynb` waar ook de (meeste) afbeeldingen & resultaten zichtbaar zijn."
   ]
  },
  {
   "cell_type": "code",
   "execution_count": null,
   "metadata": {},
   "outputs": [],
   "source": []
  },
  {
   "cell_type": "markdown",
   "metadata": {},
   "source": [
    "## Stap 1: data inlezen\n",
    "\n",
    "Maak een lus over alle bestanden in de map `data/geboortes`, lees elk `.csv` bestand in en voeg deze samen tot 1 grote DataFrame. Merk op dat de datum verwerkt zit in de filename, voeg deze toe aan de kleine DataFrames voor je de dataframes samenvoegt met een `pd.concat(dfs)`.\n",
    "\n",
    "Voeg een extra kolom toe met een `\"dag van het jaar\"` getal, dus 1 januari 2019 is `1`, 2 januari 2019 is `2`, enzovoort.\n",
    "\n",
    "**Opmerking**: Er is ook data voor 29 februari 2019, terwijl dit geen schrikkeljaar is! Plaats deze geboortes in een afzonderlijke DataFrame `df_wrong`. Zet in `df_wrong` een extra kolom met een referentie naar waarom deze data foutief is."
   ]
  },
  {
   "cell_type": "code",
   "execution_count": 1,
   "metadata": {},
   "outputs": [
    {
     "name": "stdout",
     "output_type": "stream",
     "text": [
      "366\n",
      "['2019-1-1.csv', '2019-1-10.csv', '2019-1-11.csv', '2019-1-12.csv', '2019-1-13.csv', '2019-1-14.csv', '2019-1-15.csv', '2019-1-16.csv', '2019-1-17.csv', '2019-1-18.csv', '2019-1-19.csv', '2019-1-2.csv', '2019-1-20.csv', '2019-1-21.csv', '2019-1-22.csv', '2019-1-23.csv', '2019-1-24.csv', '2019-1-25.csv', '2019-1-26.csv', '2019-1-27.csv', '2019-1-28.csv', '2019-1-29.csv', '2019-1-3.csv', '2019-1-30.csv', '2019-1-31.csv', '2019-1-4.csv', '2019-1-5.csv', '2019-1-6.csv', '2019-1-7.csv', '2019-1-8.csv', '2019-1-9.csv', '2019-10-1.csv', '2019-10-10.csv', '2019-10-11.csv', '2019-10-12.csv', '2019-10-13.csv', '2019-10-14.csv', '2019-10-15.csv', '2019-10-16.csv', '2019-10-17.csv', '2019-10-18.csv', '2019-10-19.csv', '2019-10-2.csv', '2019-10-20.csv', '2019-10-21.csv', '2019-10-22.csv', '2019-10-23.csv', '2019-10-24.csv', '2019-10-25.csv', '2019-10-26.csv', '2019-10-27.csv', '2019-10-28.csv', '2019-10-29.csv', '2019-10-3.csv', '2019-10-30.csv', '2019-10-31.csv', '2019-10-4.csv', '2019-10-5.csv', '2019-10-6.csv', '2019-10-7.csv', '2019-10-8.csv', '2019-10-9.csv', '2019-11-1.csv', '2019-11-10.csv', '2019-11-11.csv', '2019-11-12.csv', '2019-11-13.csv', '2019-11-14.csv', '2019-11-15.csv', '2019-11-16.csv', '2019-11-17.csv', '2019-11-18.csv', '2019-11-19.csv', '2019-11-2.csv', '2019-11-20.csv', '2019-11-21.csv', '2019-11-22.csv', '2019-11-23.csv', '2019-11-24.csv', '2019-11-25.csv', '2019-11-26.csv', '2019-11-27.csv', '2019-11-28.csv', '2019-11-29.csv', '2019-11-3.csv', '2019-11-30.csv', '2019-11-4.csv', '2019-11-5.csv', '2019-11-6.csv', '2019-11-7.csv', '2019-11-8.csv', '2019-11-9.csv', '2019-12-1.csv', '2019-12-10.csv', '2019-12-11.csv', '2019-12-12.csv', '2019-12-13.csv', '2019-12-14.csv', '2019-12-15.csv', '2019-12-16.csv', '2019-12-17.csv', '2019-12-18.csv', '2019-12-19.csv', '2019-12-2.csv', '2019-12-20.csv', '2019-12-21.csv', '2019-12-22.csv', '2019-12-23.csv', '2019-12-24.csv', '2019-12-25.csv', '2019-12-26.csv', '2019-12-27.csv', '2019-12-28.csv', '2019-12-29.csv', '2019-12-3.csv', '2019-12-30.csv', '2019-12-31.csv', '2019-12-4.csv', '2019-12-5.csv', '2019-12-6.csv', '2019-12-7.csv', '2019-12-8.csv', '2019-12-9.csv', '2019-2-1.csv', '2019-2-10.csv', '2019-2-11.csv', '2019-2-12.csv', '2019-2-13.csv', '2019-2-14.csv', '2019-2-15.csv', '2019-2-16.csv', '2019-2-17.csv', '2019-2-18.csv', '2019-2-19.csv', '2019-2-2.csv', '2019-2-20.csv', '2019-2-21.csv', '2019-2-22.csv', '2019-2-23.csv', '2019-2-24.csv', '2019-2-25.csv', '2019-2-26.csv', '2019-2-27.csv', '2019-2-28.csv', '2019-2-29.csv', '2019-2-3.csv', '2019-2-4.csv', '2019-2-5.csv', '2019-2-6.csv', '2019-2-7.csv', '2019-2-8.csv', '2019-2-9.csv', '2019-3-1.csv', '2019-3-10.csv', '2019-3-11.csv', '2019-3-12.csv', '2019-3-13.csv', '2019-3-14.csv', '2019-3-15.csv', '2019-3-16.csv', '2019-3-17.csv', '2019-3-18.csv', '2019-3-19.csv', '2019-3-2.csv', '2019-3-20.csv', '2019-3-21.csv', '2019-3-22.csv', '2019-3-23.csv', '2019-3-24.csv', '2019-3-25.csv', '2019-3-26.csv', '2019-3-27.csv', '2019-3-28.csv', '2019-3-29.csv', '2019-3-3.csv', '2019-3-30.csv', '2019-3-31.csv', '2019-3-4.csv', '2019-3-5.csv', '2019-3-6.csv', '2019-3-7.csv', '2019-3-8.csv', '2019-3-9.csv', '2019-4-1.csv', '2019-4-10.csv', '2019-4-11.csv', '2019-4-12.csv', '2019-4-13.csv', '2019-4-14.csv', '2019-4-15.csv', '2019-4-16.csv', '2019-4-17.csv', '2019-4-18.csv', '2019-4-19.csv', '2019-4-2.csv', '2019-4-20.csv', '2019-4-21.csv', '2019-4-22.csv', '2019-4-23.csv', '2019-4-24.csv', '2019-4-25.csv', '2019-4-26.csv', '2019-4-27.csv', '2019-4-28.csv', '2019-4-29.csv', '2019-4-3.csv', '2019-4-30.csv', '2019-4-4.csv', '2019-4-5.csv', '2019-4-6.csv', '2019-4-7.csv', '2019-4-8.csv', '2019-4-9.csv', '2019-5-1.csv', '2019-5-10.csv', '2019-5-11.csv', '2019-5-12.csv', '2019-5-13.csv', '2019-5-14.csv', '2019-5-15.csv', '2019-5-16.csv', '2019-5-17.csv', '2019-5-18.csv', '2019-5-19.csv', '2019-5-2.csv', '2019-5-20.csv', '2019-5-21.csv', '2019-5-22.csv', '2019-5-23.csv', '2019-5-24.csv', '2019-5-25.csv', '2019-5-26.csv', '2019-5-27.csv', '2019-5-28.csv', '2019-5-29.csv', '2019-5-3.csv', '2019-5-30.csv', '2019-5-31.csv', '2019-5-4.csv', '2019-5-5.csv', '2019-5-6.csv', '2019-5-7.csv', '2019-5-8.csv', '2019-5-9.csv', '2019-6-1.csv', '2019-6-10.csv', '2019-6-11.csv', '2019-6-12.csv', '2019-6-13.csv', '2019-6-14.csv', '2019-6-15.csv', '2019-6-16.csv', '2019-6-17.csv', '2019-6-18.csv', '2019-6-19.csv', '2019-6-2.csv', '2019-6-20.csv', '2019-6-21.csv', '2019-6-22.csv', '2019-6-23.csv', '2019-6-24.csv', '2019-6-25.csv', '2019-6-26.csv', '2019-6-27.csv', '2019-6-28.csv', '2019-6-29.csv', '2019-6-3.csv', '2019-6-30.csv', '2019-6-4.csv', '2019-6-5.csv', '2019-6-6.csv', '2019-6-7.csv', '2019-6-8.csv', '2019-6-9.csv', '2019-7-1.csv', '2019-7-10.csv', '2019-7-11.csv', '2019-7-12.csv', '2019-7-13.csv', '2019-7-14.csv', '2019-7-15.csv', '2019-7-16.csv', '2019-7-17.csv', '2019-7-18.csv', '2019-7-19.csv', '2019-7-2.csv', '2019-7-20.csv', '2019-7-21.csv', '2019-7-22.csv', '2019-7-23.csv', '2019-7-24.csv', '2019-7-25.csv', '2019-7-26.csv', '2019-7-27.csv', '2019-7-28.csv', '2019-7-29.csv', '2019-7-3.csv', '2019-7-30.csv', '2019-7-31.csv', '2019-7-4.csv', '2019-7-5.csv', '2019-7-6.csv', '2019-7-7.csv', '2019-7-8.csv', '2019-7-9.csv', '2019-8-1.csv', '2019-8-10.csv', '2019-8-11.csv', '2019-8-12.csv', '2019-8-13.csv', '2019-8-14.csv', '2019-8-15.csv', '2019-8-16.csv', '2019-8-17.csv', '2019-8-18.csv', '2019-8-19.csv', '2019-8-2.csv', '2019-8-20.csv', '2019-8-21.csv', '2019-8-22.csv', '2019-8-23.csv', '2019-8-24.csv', '2019-8-25.csv', '2019-8-26.csv', '2019-8-27.csv', '2019-8-28.csv', '2019-8-29.csv', '2019-8-3.csv', '2019-8-30.csv', '2019-8-31.csv', '2019-8-4.csv', '2019-8-5.csv', '2019-8-6.csv', '2019-8-7.csv', '2019-8-8.csv', '2019-8-9.csv', '2019-9-1.csv', '2019-9-10.csv', '2019-9-11.csv', '2019-9-12.csv', '2019-9-13.csv', '2019-9-14.csv', '2019-9-15.csv', '2019-9-16.csv', '2019-9-17.csv', '2019-9-18.csv', '2019-9-19.csv', '2019-9-2.csv', '2019-9-20.csv', '2019-9-21.csv', '2019-9-22.csv', '2019-9-23.csv', '2019-9-24.csv', '2019-9-25.csv', '2019-9-26.csv', '2019-9-27.csv', '2019-9-28.csv', '2019-9-29.csv', '2019-9-3.csv', '2019-9-30.csv', '2019-9-4.csv', '2019-9-5.csv', '2019-9-6.csv', '2019-9-7.csv', '2019-9-8.csv', '2019-9-9.csv']\n"
     ]
    }
   ],
   "source": [
    "# Ik ga eerst een lijst aanmaken met daarin alle dagen (bestandsnaam - '.csv').\n",
    "# Vervolgens een leeg dataframe aanmaken en via een forloop de data van ieder bestand hieraan toevoegen.\n",
    "\n",
    "import os\n",
    "folder_path = r'C:\\Users\\Carl\\Desktop\\Syntra - Data Scientist\\Notities Lessen\\Les 26 - Examen Data Exploration\\examen\\examen\\data\\output'\n",
    "\n",
    "alle_dagen = []  # Hier komen dus alle dagen in\n",
    "\n",
    "for file in os.listdir(folder_path):  # Via een forloop iedere dag toevoegen aan de list\n",
    "    alle_dagen.append(file)\n",
    "\n",
    "\n",
    "print(len(alle_dagen))\n",
    "print(alle_dagen)"
   ]
  },
  {
   "cell_type": "code",
   "execution_count": 2,
   "metadata": {},
   "outputs": [
    {
     "data": {
      "text/html": [
       "<div>\n",
       "<style scoped>\n",
       "    .dataframe tbody tr th:only-of-type {\n",
       "        vertical-align: middle;\n",
       "    }\n",
       "\n",
       "    .dataframe tbody tr th {\n",
       "        vertical-align: top;\n",
       "    }\n",
       "\n",
       "    .dataframe thead th {\n",
       "        text-align: right;\n",
       "    }\n",
       "</style>\n",
       "<table border=\"1\" class=\"dataframe\">\n",
       "  <thead>\n",
       "    <tr style=\"text-align: right;\">\n",
       "      <th></th>\n",
       "      <th>gemeente</th>\n",
       "      <th>naam</th>\n",
       "      <th>geslacht</th>\n",
       "      <th>verwachte datum</th>\n",
       "      <th>geboortedatum</th>\n",
       "    </tr>\n",
       "  </thead>\n",
       "  <tbody>\n",
       "    <tr>\n",
       "      <th>0</th>\n",
       "      <td>Hooglede</td>\n",
       "      <td>Elias</td>\n",
       "      <td>Mannelijk</td>\n",
       "      <td>01/14/2019</td>\n",
       "      <td>2019-1-1.csv</td>\n",
       "    </tr>\n",
       "    <tr>\n",
       "      <th>1</th>\n",
       "      <td>Sint-Niklaas (Sint-Niklaas)</td>\n",
       "      <td>Pauline</td>\n",
       "      <td>Vrouwelijk</td>\n",
       "      <td>01/05/2019</td>\n",
       "      <td>2019-1-1.csv</td>\n",
       "    </tr>\n",
       "    <tr>\n",
       "      <th>2</th>\n",
       "      <td>Wijnegem</td>\n",
       "      <td>Anita</td>\n",
       "      <td>Vrouwelijk</td>\n",
       "      <td>01/05/2019</td>\n",
       "      <td>2019-1-1.csv</td>\n",
       "    </tr>\n",
       "    <tr>\n",
       "      <th>3</th>\n",
       "      <td>Grâce-Hollogne</td>\n",
       "      <td>Jean-Paul</td>\n",
       "      <td>Mannelijk</td>\n",
       "      <td>01/13/2019</td>\n",
       "      <td>2019-1-1.csv</td>\n",
       "    </tr>\n",
       "    <tr>\n",
       "      <th>4</th>\n",
       "      <td>Boussu</td>\n",
       "      <td>François</td>\n",
       "      <td>Mannelijk</td>\n",
       "      <td>01/26/2019</td>\n",
       "      <td>2019-1-1.csv</td>\n",
       "    </tr>\n",
       "    <tr>\n",
       "      <th>5</th>\n",
       "      <td>Kraainem</td>\n",
       "      <td>Véronique</td>\n",
       "      <td>Vrouwelijk</td>\n",
       "      <td>01/06/2019</td>\n",
       "      <td>2019-1-1.csv</td>\n",
       "    </tr>\n",
       "    <tr>\n",
       "      <th>6</th>\n",
       "      <td>Zottegem</td>\n",
       "      <td>Roel</td>\n",
       "      <td>Mannelijk</td>\n",
       "      <td>01/27/2019</td>\n",
       "      <td>2019-1-1.csv</td>\n",
       "    </tr>\n",
       "    <tr>\n",
       "      <th>7</th>\n",
       "      <td>Luik</td>\n",
       "      <td>Lucas</td>\n",
       "      <td>Mannelijk</td>\n",
       "      <td>01/03/2019</td>\n",
       "      <td>2019-1-1.csv</td>\n",
       "    </tr>\n",
       "    <tr>\n",
       "      <th>8</th>\n",
       "      <td>Aartselaar</td>\n",
       "      <td>Kristien</td>\n",
       "      <td>Vrouwelijk</td>\n",
       "      <td>01/01/2019</td>\n",
       "      <td>2019-1-1.csv</td>\n",
       "    </tr>\n",
       "    <tr>\n",
       "      <th>9</th>\n",
       "      <td>Hannuit</td>\n",
       "      <td>Cécile</td>\n",
       "      <td>Vrouwelijk</td>\n",
       "      <td>01/12/2019</td>\n",
       "      <td>2019-1-1.csv</td>\n",
       "    </tr>\n",
       "    <tr>\n",
       "      <th>10</th>\n",
       "      <td>Roeselare</td>\n",
       "      <td>Mathijs</td>\n",
       "      <td>Mannelijk</td>\n",
       "      <td>01/14/2019</td>\n",
       "      <td>2019-1-1.csv</td>\n",
       "    </tr>\n",
       "    <tr>\n",
       "      <th>11</th>\n",
       "      <td>Aalst (Aalst)</td>\n",
       "      <td>Shirley</td>\n",
       "      <td>Vrouwelijk</td>\n",
       "      <td>01/10/2019</td>\n",
       "      <td>2019-1-1.csv</td>\n",
       "    </tr>\n",
       "    <tr>\n",
       "      <th>12</th>\n",
       "      <td>Gistel</td>\n",
       "      <td>Nadine</td>\n",
       "      <td>Vrouwelijk</td>\n",
       "      <td>12/27/2018</td>\n",
       "      <td>2019-1-1.csv</td>\n",
       "    </tr>\n",
       "    <tr>\n",
       "      <th>13</th>\n",
       "      <td>Sint-Niklaas (Sint-Niklaas)</td>\n",
       "      <td>Recep</td>\n",
       "      <td>Mannelijk</td>\n",
       "      <td>01/08/2019</td>\n",
       "      <td>2019-1-1.csv</td>\n",
       "    </tr>\n",
       "    <tr>\n",
       "      <th>14</th>\n",
       "      <td>Gingelom</td>\n",
       "      <td>Josse</td>\n",
       "      <td>Mannelijk</td>\n",
       "      <td>03/02/2019</td>\n",
       "      <td>2019-1-1.csv</td>\n",
       "    </tr>\n",
       "  </tbody>\n",
       "</table>\n",
       "</div>"
      ],
      "text/plain": [
       "                       gemeente       naam    geslacht verwachte datum  \\\n",
       "0                      Hooglede      Elias   Mannelijk      01/14/2019   \n",
       "1   Sint-Niklaas (Sint-Niklaas)    Pauline  Vrouwelijk      01/05/2019   \n",
       "2                      Wijnegem      Anita  Vrouwelijk      01/05/2019   \n",
       "3                Grâce-Hollogne  Jean-Paul   Mannelijk      01/13/2019   \n",
       "4                        Boussu   François   Mannelijk      01/26/2019   \n",
       "5                      Kraainem  Véronique  Vrouwelijk      01/06/2019   \n",
       "6                      Zottegem       Roel   Mannelijk      01/27/2019   \n",
       "7                          Luik      Lucas   Mannelijk      01/03/2019   \n",
       "8                    Aartselaar   Kristien  Vrouwelijk      01/01/2019   \n",
       "9                       Hannuit     Cécile  Vrouwelijk      01/12/2019   \n",
       "10                    Roeselare    Mathijs   Mannelijk      01/14/2019   \n",
       "11                Aalst (Aalst)    Shirley  Vrouwelijk      01/10/2019   \n",
       "12                       Gistel     Nadine  Vrouwelijk      12/27/2018   \n",
       "13  Sint-Niklaas (Sint-Niklaas)      Recep   Mannelijk      01/08/2019   \n",
       "14                     Gingelom      Josse   Mannelijk      03/02/2019   \n",
       "\n",
       "   geboortedatum  \n",
       "0   2019-1-1.csv  \n",
       "1   2019-1-1.csv  \n",
       "2   2019-1-1.csv  \n",
       "3   2019-1-1.csv  \n",
       "4   2019-1-1.csv  \n",
       "5   2019-1-1.csv  \n",
       "6   2019-1-1.csv  \n",
       "7   2019-1-1.csv  \n",
       "8   2019-1-1.csv  \n",
       "9   2019-1-1.csv  \n",
       "10  2019-1-1.csv  \n",
       "11  2019-1-1.csv  \n",
       "12  2019-1-1.csv  \n",
       "13  2019-1-1.csv  \n",
       "14  2019-1-1.csv  "
      ]
     },
     "execution_count": 2,
     "metadata": {},
     "output_type": "execute_result"
    }
   ],
   "source": [
    "import numpy as np\n",
    "import pandas as pd\n",
    "\n",
    "dfs = []  #lege lijst aanmaken van de dataframes per dag\n",
    "\n",
    "# Van ieder csv-file een dataframe aanmaken\n",
    "# We moeten een extra kolom toevoegen die de filename gebruikt als waarde\n",
    "for file in alle_dagen:\n",
    "    file_path = os.path.join(folder_path, file)\n",
    "    df = pd.read_csv(file_path)\n",
    "    df['geboortedatum'] = file  # Add a new column with the filename\n",
    "    dfs.append(df)\n",
    "    \n",
    "    \n",
    "\n",
    "# alle dataframes toevoegen aan één algemeen dataframe\n",
    "df = pd.concat(dfs)\n",
    "\n",
    "df.head(15)"
   ]
  },
  {
   "cell_type": "code",
   "execution_count": null,
   "metadata": {},
   "outputs": [],
   "source": []
  },
  {
   "cell_type": "code",
   "execution_count": null,
   "metadata": {},
   "outputs": [],
   "source": []
  },
  {
   "cell_type": "code",
   "execution_count": null,
   "metadata": {},
   "outputs": [],
   "source": []
  },
  {
   "cell_type": "code",
   "execution_count": null,
   "metadata": {},
   "outputs": [],
   "source": []
  },
  {
   "cell_type": "code",
   "execution_count": null,
   "metadata": {},
   "outputs": [],
   "source": []
  },
  {
   "cell_type": "code",
   "execution_count": 3,
   "metadata": {},
   "outputs": [
    {
     "ename": "ValueError",
     "evalue": "day is out of range for month, at position 144. You might want to try:\n    - passing `format` if your strings have a consistent format;\n    - passing `format='ISO8601'` if your strings are all ISO8601 but not necessarily in exactly the same format;\n    - passing `format='mixed'`, and the format will be inferred for each element individually. You might want to use `dayfirst` alongside this.",
     "output_type": "error",
     "traceback": [
      "\u001b[1;31m---------------------------------------------------------------------------\u001b[0m",
      "\u001b[1;31mValueError\u001b[0m                                Traceback (most recent call last)",
      "Cell \u001b[1;32mIn[3], line 8\u001b[0m\n\u001b[0;32m      4\u001b[0m df[\u001b[38;5;124m'\u001b[39m\u001b[38;5;124mgeboortedatum\u001b[39m\u001b[38;5;124m'\u001b[39m] \u001b[38;5;241m=\u001b[39m df[\u001b[38;5;124m'\u001b[39m\u001b[38;5;124mgeboortedatum\u001b[39m\u001b[38;5;124m'\u001b[39m]\u001b[38;5;241m.\u001b[39mstr\u001b[38;5;241m.\u001b[39msplit(\u001b[38;5;124m'\u001b[39m\u001b[38;5;124m.\u001b[39m\u001b[38;5;124m'\u001b[39m)\u001b[38;5;241m.\u001b[39mstr[\u001b[38;5;241m0\u001b[39m]\n\u001b[0;32m      7\u001b[0m \u001b[38;5;66;03m# Stap 2: casten naar datetime\u001b[39;00m\n\u001b[1;32m----> 8\u001b[0m df[\u001b[38;5;124m'\u001b[39m\u001b[38;5;124mgeboortedatum\u001b[39m\u001b[38;5;124m'\u001b[39m] \u001b[38;5;241m=\u001b[39m pd\u001b[38;5;241m.\u001b[39mto_datetime(df[\u001b[38;5;124m'\u001b[39m\u001b[38;5;124mgeboortedatum\u001b[39m\u001b[38;5;124m'\u001b[39m], \u001b[38;5;28mformat\u001b[39m\u001b[38;5;241m=\u001b[39m\u001b[38;5;124m\"\u001b[39m\u001b[38;5;124m%\u001b[39m\u001b[38;5;124mY-\u001b[39m\u001b[38;5;124m%\u001b[39m\u001b[38;5;124mm-\u001b[39m\u001b[38;5;132;01m%d\u001b[39;00m\u001b[38;5;124m\"\u001b[39m)\n",
      "File \u001b[1;32m~\\anaconda3\\Lib\\site-packages\\pandas\\core\\tools\\datetimes.py:1108\u001b[0m, in \u001b[0;36mto_datetime\u001b[1;34m(arg, errors, dayfirst, yearfirst, utc, format, exact, unit, infer_datetime_format, origin, cache)\u001b[0m\n\u001b[0;32m   1106\u001b[0m             result \u001b[38;5;241m=\u001b[39m arg\u001b[38;5;241m.\u001b[39mtz_localize(\u001b[38;5;124m\"\u001b[39m\u001b[38;5;124mutc\u001b[39m\u001b[38;5;124m\"\u001b[39m)\n\u001b[0;32m   1107\u001b[0m \u001b[38;5;28;01melif\u001b[39;00m \u001b[38;5;28misinstance\u001b[39m(arg, ABCSeries):\n\u001b[1;32m-> 1108\u001b[0m     cache_array \u001b[38;5;241m=\u001b[39m _maybe_cache(arg, \u001b[38;5;28mformat\u001b[39m, cache, convert_listlike)\n\u001b[0;32m   1109\u001b[0m     \u001b[38;5;28;01mif\u001b[39;00m \u001b[38;5;129;01mnot\u001b[39;00m cache_array\u001b[38;5;241m.\u001b[39mempty:\n\u001b[0;32m   1110\u001b[0m         result \u001b[38;5;241m=\u001b[39m arg\u001b[38;5;241m.\u001b[39mmap(cache_array)\n",
      "File \u001b[1;32m~\\anaconda3\\Lib\\site-packages\\pandas\\core\\tools\\datetimes.py:254\u001b[0m, in \u001b[0;36m_maybe_cache\u001b[1;34m(arg, format, cache, convert_listlike)\u001b[0m\n\u001b[0;32m    252\u001b[0m unique_dates \u001b[38;5;241m=\u001b[39m unique(arg)\n\u001b[0;32m    253\u001b[0m \u001b[38;5;28;01mif\u001b[39;00m \u001b[38;5;28mlen\u001b[39m(unique_dates) \u001b[38;5;241m<\u001b[39m \u001b[38;5;28mlen\u001b[39m(arg):\n\u001b[1;32m--> 254\u001b[0m     cache_dates \u001b[38;5;241m=\u001b[39m convert_listlike(unique_dates, \u001b[38;5;28mformat\u001b[39m)\n\u001b[0;32m    255\u001b[0m     \u001b[38;5;66;03m# GH#45319\u001b[39;00m\n\u001b[0;32m    256\u001b[0m     \u001b[38;5;28;01mtry\u001b[39;00m:\n",
      "File \u001b[1;32m~\\anaconda3\\Lib\\site-packages\\pandas\\core\\tools\\datetimes.py:488\u001b[0m, in \u001b[0;36m_convert_listlike_datetimes\u001b[1;34m(arg, format, name, utc, unit, errors, dayfirst, yearfirst, exact)\u001b[0m\n\u001b[0;32m    486\u001b[0m \u001b[38;5;66;03m# `format` could be inferred, or user didn't ask for mixed-format parsing.\u001b[39;00m\n\u001b[0;32m    487\u001b[0m \u001b[38;5;28;01mif\u001b[39;00m \u001b[38;5;28mformat\u001b[39m \u001b[38;5;129;01mis\u001b[39;00m \u001b[38;5;129;01mnot\u001b[39;00m \u001b[38;5;28;01mNone\u001b[39;00m \u001b[38;5;129;01mand\u001b[39;00m \u001b[38;5;28mformat\u001b[39m \u001b[38;5;241m!=\u001b[39m \u001b[38;5;124m\"\u001b[39m\u001b[38;5;124mmixed\u001b[39m\u001b[38;5;124m\"\u001b[39m:\n\u001b[1;32m--> 488\u001b[0m     \u001b[38;5;28;01mreturn\u001b[39;00m _array_strptime_with_fallback(arg, name, utc, \u001b[38;5;28mformat\u001b[39m, exact, errors)\n\u001b[0;32m    490\u001b[0m result, tz_parsed \u001b[38;5;241m=\u001b[39m objects_to_datetime64ns(\n\u001b[0;32m    491\u001b[0m     arg,\n\u001b[0;32m    492\u001b[0m     dayfirst\u001b[38;5;241m=\u001b[39mdayfirst,\n\u001b[1;32m   (...)\u001b[0m\n\u001b[0;32m    496\u001b[0m     allow_object\u001b[38;5;241m=\u001b[39m\u001b[38;5;28;01mTrue\u001b[39;00m,\n\u001b[0;32m    497\u001b[0m )\n\u001b[0;32m    499\u001b[0m \u001b[38;5;28;01mif\u001b[39;00m tz_parsed \u001b[38;5;129;01mis\u001b[39;00m \u001b[38;5;129;01mnot\u001b[39;00m \u001b[38;5;28;01mNone\u001b[39;00m:\n\u001b[0;32m    500\u001b[0m     \u001b[38;5;66;03m# We can take a shortcut since the datetime64 numpy array\u001b[39;00m\n\u001b[0;32m    501\u001b[0m     \u001b[38;5;66;03m# is in UTC\u001b[39;00m\n",
      "File \u001b[1;32m~\\anaconda3\\Lib\\site-packages\\pandas\\core\\tools\\datetimes.py:519\u001b[0m, in \u001b[0;36m_array_strptime_with_fallback\u001b[1;34m(arg, name, utc, fmt, exact, errors)\u001b[0m\n\u001b[0;32m    508\u001b[0m \u001b[38;5;28;01mdef\u001b[39;00m \u001b[38;5;21m_array_strptime_with_fallback\u001b[39m(\n\u001b[0;32m    509\u001b[0m     arg,\n\u001b[0;32m    510\u001b[0m     name,\n\u001b[1;32m   (...)\u001b[0m\n\u001b[0;32m    514\u001b[0m     errors: \u001b[38;5;28mstr\u001b[39m,\n\u001b[0;32m    515\u001b[0m ) \u001b[38;5;241m-\u001b[39m\u001b[38;5;241m>\u001b[39m Index:\n\u001b[0;32m    516\u001b[0m \u001b[38;5;250m    \u001b[39m\u001b[38;5;124;03m\"\"\"\u001b[39;00m\n\u001b[0;32m    517\u001b[0m \u001b[38;5;124;03m    Call array_strptime, with fallback behavior depending on 'errors'.\u001b[39;00m\n\u001b[0;32m    518\u001b[0m \u001b[38;5;124;03m    \"\"\"\u001b[39;00m\n\u001b[1;32m--> 519\u001b[0m     result, timezones \u001b[38;5;241m=\u001b[39m array_strptime(arg, fmt, exact\u001b[38;5;241m=\u001b[39mexact, errors\u001b[38;5;241m=\u001b[39merrors, utc\u001b[38;5;241m=\u001b[39mutc)\n\u001b[0;32m    520\u001b[0m     \u001b[38;5;28;01mif\u001b[39;00m \u001b[38;5;28many\u001b[39m(tz \u001b[38;5;129;01mis\u001b[39;00m \u001b[38;5;129;01mnot\u001b[39;00m \u001b[38;5;28;01mNone\u001b[39;00m \u001b[38;5;28;01mfor\u001b[39;00m tz \u001b[38;5;129;01min\u001b[39;00m timezones):\n\u001b[0;32m    521\u001b[0m         \u001b[38;5;28;01mreturn\u001b[39;00m _return_parsed_timezone_results(result, timezones, utc, name)\n",
      "File \u001b[1;32mstrptime.pyx:534\u001b[0m, in \u001b[0;36mpandas._libs.tslibs.strptime.array_strptime\u001b[1;34m()\u001b[0m\n",
      "File \u001b[1;32mstrptime.pyx:493\u001b[0m, in \u001b[0;36mpandas._libs.tslibs.strptime.array_strptime\u001b[1;34m()\u001b[0m\n",
      "\u001b[1;31mValueError\u001b[0m: day is out of range for month, at position 144. You might want to try:\n    - passing `format` if your strings have a consistent format;\n    - passing `format='ISO8601'` if your strings are all ISO8601 but not necessarily in exactly the same format;\n    - passing `format='mixed'`, and the format will be inferred for each element individually. You might want to use `dayfirst` alongside this."
     ]
    }
   ],
   "source": [
    "# We gaan eerst de geboortedatum omzetten naar een datetime-object.\n",
    "# Stap 1: We splitten de string op het punt en houden het eerste gedeelte over als string.\n",
    "\n",
    "df['geboortedatum'] = df['geboortedatum'].str.split('.').str[0]\n",
    "\n",
    "\n",
    "# Stap 2: casten naar datetime\n",
    "df['geboortedatum'] = pd.to_datetime(df['geboortedatum'], format=\"%Y-%m-%d\")"
   ]
  },
  {
   "cell_type": "code",
   "execution_count": 4,
   "metadata": {},
   "outputs": [],
   "source": [
    "# Hier zit ik een beetje vast met bovenstaande foutmelding.\n",
    "# Om het mezelf gemakkelijk te maken (en niet teveel tijd te verliezen), ga ik errors = 'coerce' toepassen.\n",
    "\n",
    "df['geboortedatum'] = pd.to_datetime(df['geboortedatum'], format=\"%Y-%m-%d\", errors = 'coerce')"
   ]
  },
  {
   "cell_type": "code",
   "execution_count": 5,
   "metadata": {},
   "outputs": [],
   "source": [
    "df['verwachte datum'] = pd.to_datetime(df['verwachte datum'], format=\"%m/%d/%Y\")"
   ]
  },
  {
   "cell_type": "code",
   "execution_count": 6,
   "metadata": {},
   "outputs": [
    {
     "data": {
      "text/html": [
       "<div>\n",
       "<style scoped>\n",
       "    .dataframe tbody tr th:only-of-type {\n",
       "        vertical-align: middle;\n",
       "    }\n",
       "\n",
       "    .dataframe tbody tr th {\n",
       "        vertical-align: top;\n",
       "    }\n",
       "\n",
       "    .dataframe thead th {\n",
       "        text-align: right;\n",
       "    }\n",
       "</style>\n",
       "<table border=\"1\" class=\"dataframe\">\n",
       "  <thead>\n",
       "    <tr style=\"text-align: right;\">\n",
       "      <th></th>\n",
       "      <th>gemeente</th>\n",
       "      <th>naam</th>\n",
       "      <th>geslacht</th>\n",
       "      <th>verwachte datum</th>\n",
       "      <th>geboortedatum</th>\n",
       "    </tr>\n",
       "  </thead>\n",
       "  <tbody>\n",
       "    <tr>\n",
       "      <th>311</th>\n",
       "      <td>Lede</td>\n",
       "      <td>Lobke</td>\n",
       "      <td>Vrouwelijk</td>\n",
       "      <td>2019-09-12</td>\n",
       "      <td>2019-09-09</td>\n",
       "    </tr>\n",
       "    <tr>\n",
       "      <th>312</th>\n",
       "      <td>Westerlo</td>\n",
       "      <td>Willem</td>\n",
       "      <td>Mannelijk</td>\n",
       "      <td>2019-09-04</td>\n",
       "      <td>2019-09-09</td>\n",
       "    </tr>\n",
       "    <tr>\n",
       "      <th>313</th>\n",
       "      <td>Brugge</td>\n",
       "      <td>Diane</td>\n",
       "      <td>Vrouwelijk</td>\n",
       "      <td>2019-09-20</td>\n",
       "      <td>2019-09-09</td>\n",
       "    </tr>\n",
       "    <tr>\n",
       "      <th>314</th>\n",
       "      <td>Lendelede</td>\n",
       "      <td>Marie-Rose</td>\n",
       "      <td>Vrouwelijk</td>\n",
       "      <td>2019-10-28</td>\n",
       "      <td>2019-09-09</td>\n",
       "    </tr>\n",
       "    <tr>\n",
       "      <th>315</th>\n",
       "      <td>Vilvoorde</td>\n",
       "      <td>Sofia</td>\n",
       "      <td>Vrouwelijk</td>\n",
       "      <td>2019-09-05</td>\n",
       "      <td>2019-09-09</td>\n",
       "    </tr>\n",
       "  </tbody>\n",
       "</table>\n",
       "</div>"
      ],
      "text/plain": [
       "      gemeente        naam    geslacht verwachte datum geboortedatum\n",
       "311       Lede       Lobke  Vrouwelijk      2019-09-12    2019-09-09\n",
       "312   Westerlo      Willem   Mannelijk      2019-09-04    2019-09-09\n",
       "313     Brugge       Diane  Vrouwelijk      2019-09-20    2019-09-09\n",
       "314  Lendelede  Marie-Rose  Vrouwelijk      2019-10-28    2019-09-09\n",
       "315  Vilvoorde       Sofia  Vrouwelijk      2019-09-05    2019-09-09"
      ]
     },
     "execution_count": 6,
     "metadata": {},
     "output_type": "execute_result"
    }
   ],
   "source": [
    "df.tail()"
   ]
  },
  {
   "cell_type": "code",
   "execution_count": null,
   "metadata": {},
   "outputs": [],
   "source": []
  },
  {
   "cell_type": "code",
   "execution_count": null,
   "metadata": {},
   "outputs": [],
   "source": []
  },
  {
   "cell_type": "code",
   "execution_count": 7,
   "metadata": {},
   "outputs": [],
   "source": [
    "# We moeten een extra kolom toevoegen die weergeeft de hoeveelste dag van het jaar dit is. We zagen hiervoor de date2num methode\n",
    "from matplotlib.dates import date2num\n",
    "\n",
    "\n",
    "df['dag van het jaar'] = date2num(df['geboortedatum'])"
   ]
  },
  {
   "cell_type": "code",
   "execution_count": 8,
   "metadata": {},
   "outputs": [],
   "source": [
    "df['dag van het jaar'] = df['dag van het jaar'] - 17896"
   ]
  },
  {
   "cell_type": "code",
   "execution_count": 9,
   "metadata": {},
   "outputs": [],
   "source": [
    "# Opmerking: Er is ook data voor 29 februari 2019, terwijl dit geen schrikkeljaar is!\n",
    "# Plaats deze geboortes in een afzonderlijke DataFrame df_wrong.\n",
    "# Zet in df_wrong een extra kolom met een referentie naar waarom deze data foutief is.\n",
    "\n",
    "# Ik zie dat deze hier al verdwenen zijn. Wellicht heeft dat te maken met het gebruik van errors = 'coerce' hierboven.\n",
    "# Voor de volledigheid kan ik ze wel nog in een apart dataframe steken.\n",
    "\n",
    "df_wrong = pd.read_csv(r'C:\\Users\\Carl\\Desktop\\Syntra - Data Scientist\\Notities Lessen\\Les 26 - Examen Data Exploration\\examen\\examen\\data\\output\\2019-2-29.csv')"
   ]
  },
  {
   "cell_type": "code",
   "execution_count": 10,
   "metadata": {},
   "outputs": [
    {
     "data": {
      "text/html": [
       "<div>\n",
       "<style scoped>\n",
       "    .dataframe tbody tr th:only-of-type {\n",
       "        vertical-align: middle;\n",
       "    }\n",
       "\n",
       "    .dataframe tbody tr th {\n",
       "        vertical-align: top;\n",
       "    }\n",
       "\n",
       "    .dataframe thead th {\n",
       "        text-align: right;\n",
       "    }\n",
       "</style>\n",
       "<table border=\"1\" class=\"dataframe\">\n",
       "  <thead>\n",
       "    <tr style=\"text-align: right;\">\n",
       "      <th></th>\n",
       "      <th>gemeente</th>\n",
       "      <th>naam</th>\n",
       "      <th>geslacht</th>\n",
       "      <th>verwachte datum</th>\n",
       "    </tr>\n",
       "  </thead>\n",
       "  <tbody>\n",
       "    <tr>\n",
       "      <th>0</th>\n",
       "      <td>Kruisem</td>\n",
       "      <td>Patrick</td>\n",
       "      <td>Mannelijk</td>\n",
       "      <td>02/27/2019</td>\n",
       "    </tr>\n",
       "    <tr>\n",
       "      <th>1</th>\n",
       "      <td>Montigny-le-Tilleul</td>\n",
       "      <td>Sarah</td>\n",
       "      <td>Vrouwelijk</td>\n",
       "      <td>03/11/2019</td>\n",
       "    </tr>\n",
       "    <tr>\n",
       "      <th>2</th>\n",
       "      <td>Diepenbeek</td>\n",
       "      <td>Valentinus</td>\n",
       "      <td>Mannelijk</td>\n",
       "      <td>03/02/2019</td>\n",
       "    </tr>\n",
       "    <tr>\n",
       "      <th>3</th>\n",
       "      <td>Sint-Jans-Molenbeek</td>\n",
       "      <td>El</td>\n",
       "      <td>Mannelijk</td>\n",
       "      <td>02/27/2019</td>\n",
       "    </tr>\n",
       "    <tr>\n",
       "      <th>4</th>\n",
       "      <td>Overijse</td>\n",
       "      <td>Apolline</td>\n",
       "      <td>Vrouwelijk</td>\n",
       "      <td>03/03/2019</td>\n",
       "    </tr>\n",
       "  </tbody>\n",
       "</table>\n",
       "</div>"
      ],
      "text/plain": [
       "              gemeente        naam    geslacht verwachte datum\n",
       "0              Kruisem     Patrick   Mannelijk      02/27/2019\n",
       "1  Montigny-le-Tilleul       Sarah  Vrouwelijk      03/11/2019\n",
       "2           Diepenbeek  Valentinus   Mannelijk      03/02/2019\n",
       "3  Sint-Jans-Molenbeek          El   Mannelijk      02/27/2019\n",
       "4             Overijse    Apolline  Vrouwelijk      03/03/2019"
      ]
     },
     "execution_count": 10,
     "metadata": {},
     "output_type": "execute_result"
    }
   ],
   "source": [
    "df_wrong.head()"
   ]
  },
  {
   "cell_type": "code",
   "execution_count": null,
   "metadata": {},
   "outputs": [],
   "source": []
  },
  {
   "cell_type": "code",
   "execution_count": null,
   "metadata": {},
   "outputs": [],
   "source": []
  },
  {
   "cell_type": "code",
   "execution_count": null,
   "metadata": {},
   "outputs": [],
   "source": []
  },
  {
   "cell_type": "markdown",
   "metadata": {},
   "source": [
    "## Stap 2: Dagelijks aantal geboortes bekijken\n",
    "#### Vraag 1: Maak een plot van het aantal geboortes per dag van het jaar. "
   ]
  },
  {
   "cell_type": "code",
   "execution_count": null,
   "metadata": {},
   "outputs": [],
   "source": []
  },
  {
   "cell_type": "code",
   "execution_count": 11,
   "metadata": {},
   "outputs": [
    {
     "ename": "ValueError",
     "evalue": "x and y must have same first dimension, but have shapes (366,) and (365,)",
     "output_type": "error",
     "traceback": [
      "\u001b[1;31m---------------------------------------------------------------------------\u001b[0m",
      "\u001b[1;31mValueError\u001b[0m                                Traceback (most recent call last)",
      "Cell \u001b[1;32mIn[11], line 8\u001b[0m\n\u001b[0;32m      5\u001b[0m y \u001b[38;5;241m=\u001b[39m df\u001b[38;5;241m.\u001b[39mgroupby(\u001b[38;5;124m'\u001b[39m\u001b[38;5;124mdag van het jaar\u001b[39m\u001b[38;5;124m'\u001b[39m)\u001b[38;5;241m.\u001b[39msize()\n\u001b[0;32m      6\u001b[0m x \u001b[38;5;241m=\u001b[39m df[\u001b[38;5;124m'\u001b[39m\u001b[38;5;124mdag van het jaar\u001b[39m\u001b[38;5;124m'\u001b[39m]\u001b[38;5;241m.\u001b[39munique()\u001b[38;5;241m.\u001b[39mtolist()\n\u001b[1;32m----> 8\u001b[0m ax\u001b[38;5;241m.\u001b[39mplot(x, y)\n\u001b[0;32m     10\u001b[0m ax\u001b[38;5;241m.\u001b[39mset_xlabel(\u001b[38;5;124m\"\u001b[39m\u001b[38;5;124mdag_van_jaar\u001b[39m\u001b[38;5;124m\"\u001b[39m)\n\u001b[0;32m     12\u001b[0m plt\u001b[38;5;241m.\u001b[39mshow()\n",
      "File \u001b[1;32m~\\anaconda3\\Lib\\site-packages\\matplotlib\\axes\\_axes.py:1721\u001b[0m, in \u001b[0;36mAxes.plot\u001b[1;34m(self, scalex, scaley, data, *args, **kwargs)\u001b[0m\n\u001b[0;32m   1478\u001b[0m \u001b[38;5;250m\u001b[39m\u001b[38;5;124;03m\"\"\"\u001b[39;00m\n\u001b[0;32m   1479\u001b[0m \u001b[38;5;124;03mPlot y versus x as lines and/or markers.\u001b[39;00m\n\u001b[0;32m   1480\u001b[0m \n\u001b[1;32m   (...)\u001b[0m\n\u001b[0;32m   1718\u001b[0m \u001b[38;5;124;03m(``'green'``) or hex strings (``'#008000'``).\u001b[39;00m\n\u001b[0;32m   1719\u001b[0m \u001b[38;5;124;03m\"\"\"\u001b[39;00m\n\u001b[0;32m   1720\u001b[0m kwargs \u001b[38;5;241m=\u001b[39m cbook\u001b[38;5;241m.\u001b[39mnormalize_kwargs(kwargs, mlines\u001b[38;5;241m.\u001b[39mLine2D)\n\u001b[1;32m-> 1721\u001b[0m lines \u001b[38;5;241m=\u001b[39m [\u001b[38;5;241m*\u001b[39m\u001b[38;5;28mself\u001b[39m\u001b[38;5;241m.\u001b[39m_get_lines(\u001b[38;5;28mself\u001b[39m, \u001b[38;5;241m*\u001b[39margs, data\u001b[38;5;241m=\u001b[39mdata, \u001b[38;5;241m*\u001b[39m\u001b[38;5;241m*\u001b[39mkwargs)]\n\u001b[0;32m   1722\u001b[0m \u001b[38;5;28;01mfor\u001b[39;00m line \u001b[38;5;129;01min\u001b[39;00m lines:\n\u001b[0;32m   1723\u001b[0m     \u001b[38;5;28mself\u001b[39m\u001b[38;5;241m.\u001b[39madd_line(line)\n",
      "File \u001b[1;32m~\\anaconda3\\Lib\\site-packages\\matplotlib\\axes\\_base.py:303\u001b[0m, in \u001b[0;36m_process_plot_var_args.__call__\u001b[1;34m(self, axes, data, *args, **kwargs)\u001b[0m\n\u001b[0;32m    301\u001b[0m     this \u001b[38;5;241m+\u001b[39m\u001b[38;5;241m=\u001b[39m args[\u001b[38;5;241m0\u001b[39m],\n\u001b[0;32m    302\u001b[0m     args \u001b[38;5;241m=\u001b[39m args[\u001b[38;5;241m1\u001b[39m:]\n\u001b[1;32m--> 303\u001b[0m \u001b[38;5;28;01myield from\u001b[39;00m \u001b[38;5;28mself\u001b[39m\u001b[38;5;241m.\u001b[39m_plot_args(\n\u001b[0;32m    304\u001b[0m     axes, this, kwargs, ambiguous_fmt_datakey\u001b[38;5;241m=\u001b[39mambiguous_fmt_datakey)\n",
      "File \u001b[1;32m~\\anaconda3\\Lib\\site-packages\\matplotlib\\axes\\_base.py:499\u001b[0m, in \u001b[0;36m_process_plot_var_args._plot_args\u001b[1;34m(self, axes, tup, kwargs, return_kwargs, ambiguous_fmt_datakey)\u001b[0m\n\u001b[0;32m    496\u001b[0m     axes\u001b[38;5;241m.\u001b[39myaxis\u001b[38;5;241m.\u001b[39mupdate_units(y)\n\u001b[0;32m    498\u001b[0m \u001b[38;5;28;01mif\u001b[39;00m x\u001b[38;5;241m.\u001b[39mshape[\u001b[38;5;241m0\u001b[39m] \u001b[38;5;241m!=\u001b[39m y\u001b[38;5;241m.\u001b[39mshape[\u001b[38;5;241m0\u001b[39m]:\n\u001b[1;32m--> 499\u001b[0m     \u001b[38;5;28;01mraise\u001b[39;00m \u001b[38;5;167;01mValueError\u001b[39;00m(\u001b[38;5;124mf\u001b[39m\u001b[38;5;124m\"\u001b[39m\u001b[38;5;124mx and y must have same first dimension, but \u001b[39m\u001b[38;5;124m\"\u001b[39m\n\u001b[0;32m    500\u001b[0m                      \u001b[38;5;124mf\u001b[39m\u001b[38;5;124m\"\u001b[39m\u001b[38;5;124mhave shapes \u001b[39m\u001b[38;5;132;01m{\u001b[39;00mx\u001b[38;5;241m.\u001b[39mshape\u001b[38;5;132;01m}\u001b[39;00m\u001b[38;5;124m and \u001b[39m\u001b[38;5;132;01m{\u001b[39;00my\u001b[38;5;241m.\u001b[39mshape\u001b[38;5;132;01m}\u001b[39;00m\u001b[38;5;124m\"\u001b[39m)\n\u001b[0;32m    501\u001b[0m \u001b[38;5;28;01mif\u001b[39;00m x\u001b[38;5;241m.\u001b[39mndim \u001b[38;5;241m>\u001b[39m \u001b[38;5;241m2\u001b[39m \u001b[38;5;129;01mor\u001b[39;00m y\u001b[38;5;241m.\u001b[39mndim \u001b[38;5;241m>\u001b[39m \u001b[38;5;241m2\u001b[39m:\n\u001b[0;32m    502\u001b[0m     \u001b[38;5;28;01mraise\u001b[39;00m \u001b[38;5;167;01mValueError\u001b[39;00m(\u001b[38;5;124mf\u001b[39m\u001b[38;5;124m\"\u001b[39m\u001b[38;5;124mx and y can be no greater than 2D, but have \u001b[39m\u001b[38;5;124m\"\u001b[39m\n\u001b[0;32m    503\u001b[0m                      \u001b[38;5;124mf\u001b[39m\u001b[38;5;124m\"\u001b[39m\u001b[38;5;124mshapes \u001b[39m\u001b[38;5;132;01m{\u001b[39;00mx\u001b[38;5;241m.\u001b[39mshape\u001b[38;5;132;01m}\u001b[39;00m\u001b[38;5;124m and \u001b[39m\u001b[38;5;132;01m{\u001b[39;00my\u001b[38;5;241m.\u001b[39mshape\u001b[38;5;132;01m}\u001b[39;00m\u001b[38;5;124m\"\u001b[39m)\n",
      "\u001b[1;31mValueError\u001b[0m: x and y must have same first dimension, but have shapes (366,) and (365,)"
     ]
    },
    {
     "data": {
      "image/png": "[encoded data removed]",
      "text/plain": [
       "<Figure size 640x480 with 1 Axes>"
      ]
     },
     "metadata": {},
     "output_type": "display_data"
    }
   ],
   "source": [
    "import matplotlib.pyplot as plt\n",
    "\n",
    "fig, ax = plt.subplots()\n",
    "\n",
    "y = df.groupby('dag van het jaar').size()\n",
    "x = df['dag van het jaar'].unique().tolist()\n",
    "\n",
    "ax.plot(x, y)\n",
    "\n",
    "ax.set_xlabel(\"dag_van_jaar\")\n",
    "\n",
    "plt.show()\n"
   ]
  },
  {
   "cell_type": "code",
   "execution_count": 12,
   "metadata": {},
   "outputs": [
    {
     "data": {
      "image/png": "[encoded data removed]",
      "text/plain": [
       "<Figure size 1800x400 with 1 Axes>"
      ]
     },
     "metadata": {},
     "output_type": "display_data"
    }
   ],
   "source": [
    "# Kunnen we oplossen op onderstaande wijze:\n",
    "\n",
    "fig, ax = plt.subplots(figsize=(18, 4))\n",
    "\n",
    "\n",
    "y = df.groupby('dag van het jaar').size()\n",
    "x = y.index\n",
    "\n",
    "ax.plot(x, y, linewidth=2)\n",
    "\n",
    "ax.set_xlabel(\"dag_van_jaar\")\n",
    "ax.spines['top'].set_visible(False)\n",
    "ax.spines['right'].set_visible(False) \n",
    "plt.yticks([200, 400, 600, 800])  # we maken een list met dezelfde ticks als hierboven\n",
    "\n",
    "plt.show()\n"
   ]
  },
  {
   "cell_type": "code",
   "execution_count": null,
   "metadata": {},
   "outputs": [],
   "source": []
  },
  {
   "cell_type": "code",
   "execution_count": null,
   "metadata": {},
   "outputs": [],
   "source": []
  },
  {
   "cell_type": "code",
   "execution_count": null,
   "metadata": {},
   "outputs": [],
   "source": []
  },
  {
   "cell_type": "code",
   "execution_count": null,
   "metadata": {},
   "outputs": [],
   "source": []
  },
  {
   "cell_type": "code",
   "execution_count": null,
   "metadata": {},
   "outputs": [],
   "source": []
  },
  {
   "cell_type": "markdown",
   "metadata": {},
   "source": [
    "##"
   ]
  },
  {
   "cell_type": "markdown",
   "metadata": {},
   "source": [
    "#### Vraag 2: Outliers vinden & behandelen\n",
    "\n",
    "We klassificeren een datum als een outlier als het aantal geboortes meer dan `50%` afwijkt van de gemiddelde waarde overheen de volledige dataset. Zoek alle outliers in de dataset."
   ]
  },
  {
   "cell_type": "code",
   "execution_count": 13,
   "metadata": {},
   "outputs": [
    {
     "name": "stdout",
     "output_type": "stream",
     "text": [
      "324.1519212665811\n"
     ]
    }
   ],
   "source": [
    "# Ik ga opnieuw groupby gebruiken om het aantal rijen te tellen per 'dag van het jaar'\n",
    "df['geboortes per dag'] = df.groupby('dag van het jaar')['dag van het jaar'].transform('size')\n",
    "\n",
    "# vervolgens het gemiddelde nemen van deze kolom\n",
    "gemiddelde = df['geboortes per dag'].mean()\n",
    "print(gemiddelde)"
   ]
  },
  {
   "cell_type": "code",
   "execution_count": 14,
   "metadata": {},
   "outputs": [
    {
     "name": "stdout",
     "output_type": "stream",
     "text": [
      "[Timestamp('2019-01-01 00:00:00'), Timestamp('2019-07-01 00:00:00')]\n"
     ]
    }
   ],
   "source": [
    "# En nu nagaan voor welke data de waarde onder de 50% of boven de 150% van dit gemiddelde ligt.\n",
    "# We kunnen via iterrow over het dataframe lopen en kijken wanneer dit het geval is. Deze data kunnen de dan in een lijst plaatsen.\n",
    "# Om te vermijden dat we over het volledige dataframe moeten lopen en dezelfde datum meerdere keren in de lijst toevoegen,\n",
    "# kunnen we het dataframe eerst vereenvoudigen naar één van 365 rijen\n",
    "\n",
    "df_unieke_dagen = df.drop_duplicates(subset='dag van het jaar')\n",
    "\n",
    "\n",
    "# Lege lijst om de geboortedagen op te slaan\n",
    "geboortedagen_lijst = []\n",
    "\n",
    "\n",
    "for index, row in df_unieke_dagen.iterrows():\n",
    "    if row['geboortes per dag'] < (gemiddelde*0.5) or row['geboortes per dag'] > (gemiddelde*1.5):\n",
    "        geboortedagen_lijst.append(row['geboortedatum'])\n",
    "\n",
    "print(geboortedagen_lijst)\n"
   ]
  },
  {
   "cell_type": "code",
   "execution_count": 15,
   "metadata": {},
   "outputs": [],
   "source": [
    "# We krijgen een lijst van 2 dagen: 1 januari en 1 juli."
   ]
  },
  {
   "cell_type": "markdown",
   "metadata": {},
   "source": [
    "Ik zal je vertellen; de outliers op 1 januari en 1 juli komen doordat alle geboortes waarvoor de datum niet correct genoteerd is, de datum 1 januari (voor de eerste helft van het jaar) en op 1 juli (voor de tweede helft van het jaar) geplaatst worden. Om dit op te lossen, halen we in de grote geboortes DataFrame (met 1 lijn per geboorte) deze twee datums er volledig uit. Dus we gaan **alle** geboortes van 1 januari en 1 juli verwijderen uit deze dataframe en toevoegen aan de `df_wrong` dataframe met als reden `2019-01-01` en `2019-07-01`."
   ]
  },
  {
   "cell_type": "code",
   "execution_count": 16,
   "metadata": {},
   "outputs": [
    {
     "data": {
      "text/html": [
       "<div>\n",
       "<style scoped>\n",
       "    .dataframe tbody tr th:only-of-type {\n",
       "        vertical-align: middle;\n",
       "    }\n",
       "\n",
       "    .dataframe tbody tr th {\n",
       "        vertical-align: top;\n",
       "    }\n",
       "\n",
       "    .dataframe thead th {\n",
       "        text-align: right;\n",
       "    }\n",
       "</style>\n",
       "<table border=\"1\" class=\"dataframe\">\n",
       "  <thead>\n",
       "    <tr style=\"text-align: right;\">\n",
       "      <th></th>\n",
       "      <th>gemeente</th>\n",
       "      <th>naam</th>\n",
       "      <th>geslacht</th>\n",
       "      <th>verwachte datum</th>\n",
       "      <th>geboortedatum</th>\n",
       "      <th>dag van het jaar</th>\n",
       "      <th>geboortes per dag</th>\n",
       "    </tr>\n",
       "  </thead>\n",
       "  <tbody>\n",
       "    <tr>\n",
       "      <th>0</th>\n",
       "      <td>Merksplas</td>\n",
       "      <td>Liliane</td>\n",
       "      <td>Vrouwelijk</td>\n",
       "      <td>2019-01-04</td>\n",
       "      <td>2019-01-10</td>\n",
       "      <td>10.0</td>\n",
       "      <td>332.0</td>\n",
       "    </tr>\n",
       "    <tr>\n",
       "      <th>1</th>\n",
       "      <td>Bornem</td>\n",
       "      <td>Jeroen</td>\n",
       "      <td>Mannelijk</td>\n",
       "      <td>2019-01-10</td>\n",
       "      <td>2019-01-10</td>\n",
       "      <td>10.0</td>\n",
       "      <td>332.0</td>\n",
       "    </tr>\n",
       "    <tr>\n",
       "      <th>2</th>\n",
       "      <td>Houthalen-Helchteren</td>\n",
       "      <td>Fatima</td>\n",
       "      <td>Vrouwelijk</td>\n",
       "      <td>2019-01-21</td>\n",
       "      <td>2019-01-10</td>\n",
       "      <td>10.0</td>\n",
       "      <td>332.0</td>\n",
       "    </tr>\n",
       "    <tr>\n",
       "      <th>3</th>\n",
       "      <td>Lievegem</td>\n",
       "      <td>Hilaire</td>\n",
       "      <td>Mannelijk</td>\n",
       "      <td>2019-01-15</td>\n",
       "      <td>2019-01-10</td>\n",
       "      <td>10.0</td>\n",
       "      <td>332.0</td>\n",
       "    </tr>\n",
       "    <tr>\n",
       "      <th>4</th>\n",
       "      <td>Spiere-Helkijn</td>\n",
       "      <td>Christian</td>\n",
       "      <td>Mannelijk</td>\n",
       "      <td>2019-01-16</td>\n",
       "      <td>2019-01-10</td>\n",
       "      <td>10.0</td>\n",
       "      <td>332.0</td>\n",
       "    </tr>\n",
       "  </tbody>\n",
       "</table>\n",
       "</div>"
      ],
      "text/plain": [
       "               gemeente       naam    geslacht verwachte datum geboortedatum  \\\n",
       "0             Merksplas    Liliane  Vrouwelijk      2019-01-04    2019-01-10   \n",
       "1                Bornem     Jeroen   Mannelijk      2019-01-10    2019-01-10   \n",
       "2  Houthalen-Helchteren     Fatima  Vrouwelijk      2019-01-21    2019-01-10   \n",
       "3              Lievegem    Hilaire   Mannelijk      2019-01-15    2019-01-10   \n",
       "4        Spiere-Helkijn  Christian   Mannelijk      2019-01-16    2019-01-10   \n",
       "\n",
       "   dag van het jaar  geboortes per dag  \n",
       "0              10.0              332.0  \n",
       "1              10.0              332.0  \n",
       "2              10.0              332.0  \n",
       "3              10.0              332.0  \n",
       "4              10.0              332.0  "
      ]
     },
     "execution_count": 16,
     "metadata": {},
     "output_type": "execute_result"
    }
   ],
   "source": [
    "# We houden een dataframe over waar de dagen 1 januari en 1 juli niet in voorkomen\n",
    "df = df[(df['dag van het jaar'] != 1) & (df['dag van het jaar'] != 182)]\n",
    "\n",
    "df.head()"
   ]
  },
  {
   "cell_type": "code",
   "execution_count": 17,
   "metadata": {},
   "outputs": [
    {
     "data": {
      "text/html": [
       "<div>\n",
       "<style scoped>\n",
       "    .dataframe tbody tr th:only-of-type {\n",
       "        vertical-align: middle;\n",
       "    }\n",
       "\n",
       "    .dataframe tbody tr th {\n",
       "        vertical-align: top;\n",
       "    }\n",
       "\n",
       "    .dataframe thead th {\n",
       "        text-align: right;\n",
       "    }\n",
       "</style>\n",
       "<table border=\"1\" class=\"dataframe\">\n",
       "  <thead>\n",
       "    <tr style=\"text-align: right;\">\n",
       "      <th></th>\n",
       "      <th>gemeente</th>\n",
       "      <th>naam</th>\n",
       "      <th>geslacht</th>\n",
       "      <th>verwachte datum</th>\n",
       "      <th>geboortedatum</th>\n",
       "      <th>dag van het jaar</th>\n",
       "      <th>geboortes per dag</th>\n",
       "    </tr>\n",
       "  </thead>\n",
       "  <tbody>\n",
       "    <tr>\n",
       "      <th>0</th>\n",
       "      <td>Namen</td>\n",
       "      <td>Sabrina</td>\n",
       "      <td>Vrouwelijk</td>\n",
       "      <td>2018-12-30</td>\n",
       "      <td>2019-01-02</td>\n",
       "      <td>2.0</td>\n",
       "      <td>310.0</td>\n",
       "    </tr>\n",
       "    <tr>\n",
       "      <th>1</th>\n",
       "      <td>Waregem</td>\n",
       "      <td>Steven</td>\n",
       "      <td>Mannelijk</td>\n",
       "      <td>2019-01-07</td>\n",
       "      <td>2019-01-02</td>\n",
       "      <td>2.0</td>\n",
       "      <td>310.0</td>\n",
       "    </tr>\n",
       "    <tr>\n",
       "      <th>2</th>\n",
       "      <td>Lokeren</td>\n",
       "      <td>Luc</td>\n",
       "      <td>Mannelijk</td>\n",
       "      <td>2018-12-27</td>\n",
       "      <td>2019-01-02</td>\n",
       "      <td>2.0</td>\n",
       "      <td>310.0</td>\n",
       "    </tr>\n",
       "    <tr>\n",
       "      <th>3</th>\n",
       "      <td>Nijlen</td>\n",
       "      <td>Eric</td>\n",
       "      <td>Mannelijk</td>\n",
       "      <td>2019-01-02</td>\n",
       "      <td>2019-01-02</td>\n",
       "      <td>2.0</td>\n",
       "      <td>310.0</td>\n",
       "    </tr>\n",
       "    <tr>\n",
       "      <th>4</th>\n",
       "      <td>Aat</td>\n",
       "      <td>Catherine</td>\n",
       "      <td>Vrouwelijk</td>\n",
       "      <td>2019-01-01</td>\n",
       "      <td>2019-01-02</td>\n",
       "      <td>2.0</td>\n",
       "      <td>310.0</td>\n",
       "    </tr>\n",
       "  </tbody>\n",
       "</table>\n",
       "</div>"
      ],
      "text/plain": [
       "  gemeente       naam    geslacht verwachte datum geboortedatum  \\\n",
       "0    Namen    Sabrina  Vrouwelijk      2018-12-30    2019-01-02   \n",
       "1  Waregem     Steven   Mannelijk      2019-01-07    2019-01-02   \n",
       "2  Lokeren        Luc   Mannelijk      2018-12-27    2019-01-02   \n",
       "3   Nijlen       Eric   Mannelijk      2019-01-02    2019-01-02   \n",
       "4      Aat  Catherine  Vrouwelijk      2019-01-01    2019-01-02   \n",
       "\n",
       "   dag van het jaar  geboortes per dag  \n",
       "0               2.0              310.0  \n",
       "1               2.0              310.0  \n",
       "2               2.0              310.0  \n",
       "3               2.0              310.0  \n",
       "4               2.0              310.0  "
      ]
     },
     "execution_count": 17,
     "metadata": {},
     "output_type": "execute_result"
    }
   ],
   "source": [
    "# Het dataframe start bij 10 januari, wat niet echt logisch is.\n",
    "# We gaan sorteren op basis van de dag van het jaar en herindexeren.\n",
    "\n",
    "df = df.sort_values(by='dag van het jaar', ascending=True)\n",
    "df = df.reset_index(drop=True)\n",
    "df.head()"
   ]
  },
  {
   "cell_type": "markdown",
   "metadata": {},
   "source": [
    "Maak dezelfde plot nu opnieuw met het aantal geboortes per dag."
   ]
  },
  {
   "cell_type": "code",
   "execution_count": 18,
   "metadata": {},
   "outputs": [
    {
     "data": {
      "image/png": "[encoded data removed]",
      "text/plain": [
       "<Figure size 1800x400 with 1 Axes>"
      ]
     },
     "metadata": {},
     "output_type": "display_data"
    }
   ],
   "source": [
    "# Nu dus opnieuw plotten...\n",
    "\n",
    "\n",
    "fig, ax = plt.subplots(figsize=(18, 4))\n",
    "\n",
    "\n",
    "y = df.groupby('dag van het jaar').size()\n",
    "x = y.index\n",
    "\n",
    "ax.plot(x, y, linewidth=2)\n",
    "\n",
    "ax.set_xlabel(\"dag_van_jaar\")\n",
    "ax.spines['top'].set_visible(False)\n",
    "ax.spines['right'].set_visible(False) \n",
    "\n",
    "plt.show()\n"
   ]
  },
  {
   "cell_type": "code",
   "execution_count": null,
   "metadata": {},
   "outputs": [],
   "source": []
  },
  {
   "cell_type": "markdown",
   "metadata": {},
   "source": [
    " We zien dat er nog steeds redelijk wat uitschieters zijn, kan je code schrijven om de 5 extreme uitschieters in de 2e helft van het jaar identificeren (in totaal 8 datums)?"
   ]
  },
  {
   "cell_type": "code",
   "execution_count": null,
   "metadata": {},
   "outputs": [],
   "source": [
    "# We kunnen eens proberen via de percentielmethode uit de cursus."
   ]
  },
  {
   "cell_type": "code",
   "execution_count": 19,
   "metadata": {},
   "outputs": [],
   "source": [
    "# eerst moeten we dus een numpy array aanmaken.\n",
    "# We maken opnieuw even een tussentijds dataframe met 1 lijn per dag\n",
    "df_unieke_dagen = df.drop_duplicates(subset='geboortedatum')\n",
    "\n",
    "# en nu plaatsen we alle waarden uit de kolom 'geboortes per dag' in een array\n",
    "data = np.array(df_unieke_dagen['geboortes per dag'])\n"
   ]
  },
  {
   "cell_type": "code",
   "execution_count": 20,
   "metadata": {},
   "outputs": [
    {
     "name": "stdout",
     "output_type": "stream",
     "text": [
      "[]\n"
     ]
    }
   ],
   "source": [
    "q1 = np.percentile(data, 25)\n",
    "q3 = np.percentile(data, 75)\n",
    "iqr = q3-q1\n",
    "\n",
    "lower_bound = q1 - (1.5 * iqr)\n",
    "upper_bound = q3 + (1.5 * iqr)\n",
    "\n",
    "outliers = np.where((data < lower_bound) | (data > upper_bound)) [0]\n",
    "print(data[outliers])"
   ]
  },
  {
   "cell_type": "code",
   "execution_count": 21,
   "metadata": {},
   "outputs": [
    {
     "name": "stdout",
     "output_type": "stream",
     "text": [
      "[]\n"
     ]
    }
   ],
   "source": [
    "# We proberen opnieuw, maar leggen de lower bound wat hoger:\n",
    "q1 = np.percentile(data, 25)\n",
    "q3 = np.percentile(data, 75)\n",
    "iqr = q3-q1\n",
    "\n",
    "lower_bound = q1 - (0.5 * iqr)\n",
    "\n",
    "\n",
    "outliers = np.where((data < lower_bound)) [0]\n",
    "print(data[outliers])"
   ]
  },
  {
   "cell_type": "code",
   "execution_count": 22,
   "metadata": {},
   "outputs": [],
   "source": [
    "# OK, zo gaan we er dus niet geraken..."
   ]
  },
  {
   "cell_type": "code",
   "execution_count": 23,
   "metadata": {},
   "outputs": [
    {
     "data": {
      "text/html": [
       "<div>\n",
       "<style scoped>\n",
       "    .dataframe tbody tr th:only-of-type {\n",
       "        vertical-align: middle;\n",
       "    }\n",
       "\n",
       "    .dataframe tbody tr th {\n",
       "        vertical-align: top;\n",
       "    }\n",
       "\n",
       "    .dataframe thead th {\n",
       "        text-align: right;\n",
       "    }\n",
       "</style>\n",
       "<table border=\"1\" class=\"dataframe\">\n",
       "  <thead>\n",
       "    <tr style=\"text-align: right;\">\n",
       "      <th></th>\n",
       "      <th>gemeente</th>\n",
       "      <th>naam</th>\n",
       "      <th>geslacht</th>\n",
       "      <th>verwachte datum</th>\n",
       "      <th>geboortedatum</th>\n",
       "      <th>dag van het jaar</th>\n",
       "      <th>geboortes per dag</th>\n",
       "    </tr>\n",
       "  </thead>\n",
       "  <tbody>\n",
       "    <tr>\n",
       "      <th>97003</th>\n",
       "      <td>Aat</td>\n",
       "      <td>Christel</td>\n",
       "      <td>Vrouwelijk</td>\n",
       "      <td>2019-11-08</td>\n",
       "      <td>2019-11-01</td>\n",
       "      <td>305.0</td>\n",
       "      <td>265.0</td>\n",
       "    </tr>\n",
       "    <tr>\n",
       "      <th>113283</th>\n",
       "      <td>Sint-Pieters-Leeuw</td>\n",
       "      <td>David</td>\n",
       "      <td>Mannelijk</td>\n",
       "      <td>2020-01-13</td>\n",
       "      <td>2019-12-25</td>\n",
       "      <td>359.0</td>\n",
       "      <td>266.0</td>\n",
       "    </tr>\n",
       "    <tr>\n",
       "      <th>99986</th>\n",
       "      <td>Philippeville</td>\n",
       "      <td>Alain</td>\n",
       "      <td>Mannelijk</td>\n",
       "      <td>2019-11-20</td>\n",
       "      <td>2019-11-11</td>\n",
       "      <td>315.0</td>\n",
       "      <td>267.0</td>\n",
       "    </tr>\n",
       "    <tr>\n",
       "      <th>64422</th>\n",
       "      <td>Halle (Halle-Vilvoorde)</td>\n",
       "      <td>Jessie</td>\n",
       "      <td>Vrouwelijk</td>\n",
       "      <td>2019-07-20</td>\n",
       "      <td>2019-07-21</td>\n",
       "      <td>202.0</td>\n",
       "      <td>281.0</td>\n",
       "    </tr>\n",
       "    <tr>\n",
       "      <th>97268</th>\n",
       "      <td>Herstal</td>\n",
       "      <td>Esma</td>\n",
       "      <td>Vrouwelijk</td>\n",
       "      <td>2019-11-14</td>\n",
       "      <td>2019-11-02</td>\n",
       "      <td>306.0</td>\n",
       "      <td>282.0</td>\n",
       "    </tr>\n",
       "    <tr>\n",
       "      <th>113000</th>\n",
       "      <td>Kalmthout</td>\n",
       "      <td>Tineke</td>\n",
       "      <td>Vrouwelijk</td>\n",
       "      <td>2019-12-25</td>\n",
       "      <td>2019-12-24</td>\n",
       "      <td>358.0</td>\n",
       "      <td>283.0</td>\n",
       "    </tr>\n",
       "    <tr>\n",
       "      <th>113549</th>\n",
       "      <td>Diepenbeek</td>\n",
       "      <td>Stef</td>\n",
       "      <td>Mannelijk</td>\n",
       "      <td>2020-02-16</td>\n",
       "      <td>2019-12-26</td>\n",
       "      <td>360.0</td>\n",
       "      <td>285.0</td>\n",
       "    </tr>\n",
       "    <tr>\n",
       "      <th>72474</th>\n",
       "      <td>Hove (Antwerpen)</td>\n",
       "      <td>Herman</td>\n",
       "      <td>Mannelijk</td>\n",
       "      <td>2019-08-13</td>\n",
       "      <td>2019-08-15</td>\n",
       "      <td>227.0</td>\n",
       "      <td>286.0</td>\n",
       "    </tr>\n",
       "  </tbody>\n",
       "</table>\n",
       "</div>"
      ],
      "text/plain": [
       "                       gemeente      naam    geslacht verwachte datum  \\\n",
       "97003                       Aat  Christel  Vrouwelijk      2019-11-08   \n",
       "113283       Sint-Pieters-Leeuw     David   Mannelijk      2020-01-13   \n",
       "99986             Philippeville     Alain   Mannelijk      2019-11-20   \n",
       "64422   Halle (Halle-Vilvoorde)    Jessie  Vrouwelijk      2019-07-20   \n",
       "97268                   Herstal      Esma  Vrouwelijk      2019-11-14   \n",
       "113000                Kalmthout    Tineke  Vrouwelijk      2019-12-25   \n",
       "113549               Diepenbeek      Stef   Mannelijk      2020-02-16   \n",
       "72474          Hove (Antwerpen)    Herman   Mannelijk      2019-08-13   \n",
       "\n",
       "       geboortedatum  dag van het jaar  geboortes per dag  \n",
       "97003     2019-11-01             305.0              265.0  \n",
       "113283    2019-12-25             359.0              266.0  \n",
       "99986     2019-11-11             315.0              267.0  \n",
       "64422     2019-07-21             202.0              281.0  \n",
       "97268     2019-11-02             306.0              282.0  \n",
       "113000    2019-12-24             358.0              283.0  \n",
       "113549    2019-12-26             360.0              285.0  \n",
       "72474     2019-08-15             227.0              286.0  "
      ]
     },
     "execution_count": 23,
     "metadata": {},
     "output_type": "execute_result"
    }
   ],
   "source": [
    "# Omwille van tijdsgebrek ga ik enkel op zoek naar de 8 laagste waarden:\n",
    "\n",
    "# Stap 1: sorteren op basis van geboortes per dag\n",
    "df_sorted = df_unieke_dagen.sort_values(by='geboortes per dag', ascending=True)\n",
    "\n",
    "df_sorted.head(8)\n",
    "\n",
    "\n"
   ]
  },
  {
   "cell_type": "code",
   "execution_count": null,
   "metadata": {},
   "outputs": [],
   "source": []
  },
  {
   "cell_type": "code",
   "execution_count": null,
   "metadata": {},
   "outputs": [],
   "source": []
  },
  {
   "cell_type": "code",
   "execution_count": null,
   "metadata": {},
   "outputs": [],
   "source": []
  },
  {
   "cell_type": "markdown",
   "metadata": {},
   "source": [
    "## Stap 3: Onderzoeksvragen\n",
    "### Onderzoek 1: Unisex namen\n",
    "#### Een aantal statistieken\n",
    "Sommige namen zijn unisex, dat wil zeggen dat zij hetzelfde zijn voor mannen en vrouwen. Beantwoord volgende 3 vragen over unisex namen in onze dataset:\n",
    " - Hoeveel unisex namen zijn er?\n",
    " - Wat is de meest voorkomende unisex naam; hiervoor zoek ik 3 namen (en getallen):\n",
    "    - De meest populaire unisex naam bij mannen.\n",
    "    - De meest populaire unisex naam bij vrouwen.\n",
    "    - De meest popuaire unisex naam.\n",
    "\n",
    "**Tip:** Neem hiervoor terug de volledige dataset in acht (dus met de foutief geklasseerde namen)."
   ]
  },
  {
   "cell_type": "code",
   "execution_count": 24,
   "metadata": {},
   "outputs": [
    {
     "name": "stdout",
     "output_type": "stream",
     "text": [
      "['Yannick', 'Sacha', 'Noa', 'Nicky', 'Chris', 'Dominique', 'Jo', 'Sam', 'Flor', 'El', 'Maxime', 'Claude', 'Alexis', 'Niki', 'Charlie', 'Robin', 'Amine', 'Kris', 'Rayan', 'Vivian', 'Michele', 'Luka', 'José', 'Andrea', 'Deniz', 'Kim', 'Tenzin', 'Imran', 'Luca', 'Eden', 'Joni', 'Isa', 'Gabriele', 'Sasha', 'Adama', 'Toby', 'Lou', 'Simone', 'Angel', 'Ilhan', 'Jessy', 'Lenny', 'Mattia', 'Nikola', 'Hedwig', 'Camille', 'Marian', 'Senna', 'Jente', 'Jitse', 'Yan', 'Louka', 'Rosario', 'Yi', 'Noor', 'Islam', 'Merlin', 'Leslie', 'Sandy', 'Nour', 'Rabia', 'Yentl', 'Loeka', 'Nikita', 'Joy', 'Hilal', 'Sai', 'Sanne', 'Yoni', 'Dursun', 'Ihsan', 'Amel', 'Gwen', 'Beau', 'Andréa']\n"
     ]
    }
   ],
   "source": [
    "# Om alle unisex namen op te lijsten, ga ik ze eerst in een lijst plaatsen\n",
    "\n",
    "df_mannen = df[df['geslacht'] == 'Mannelijk']\n",
    "df_vrouwen = df[df['geslacht'] == 'Vrouwelijk']\n",
    "\n",
    "namen_mannen = df_mannen['naam'].unique().tolist()\n",
    "namen_vrouwen = df_vrouwen['naam'].unique().tolist()\n",
    "\n",
    "unisex_namen = []\n",
    "\n",
    "for name in namen_mannen:\n",
    "    if name in namen_vrouwen:\n",
    "        unisex_namen.append(name)\n",
    "\n",
    "print(unisex_namen)"
   ]
  },
  {
   "cell_type": "code",
   "execution_count": 25,
   "metadata": {},
   "outputs": [
    {
     "data": {
      "text/html": [
       "<div>\n",
       "<style scoped>\n",
       "    .dataframe tbody tr th:only-of-type {\n",
       "        vertical-align: middle;\n",
       "    }\n",
       "\n",
       "    .dataframe tbody tr th {\n",
       "        vertical-align: top;\n",
       "    }\n",
       "\n",
       "    .dataframe thead th {\n",
       "        text-align: right;\n",
       "    }\n",
       "</style>\n",
       "<table border=\"1\" class=\"dataframe\">\n",
       "  <thead>\n",
       "    <tr style=\"text-align: right;\">\n",
       "      <th></th>\n",
       "      <th>gemeente</th>\n",
       "      <th>naam</th>\n",
       "      <th>geslacht</th>\n",
       "      <th>verwachte datum</th>\n",
       "      <th>geboortedatum</th>\n",
       "      <th>dag van het jaar</th>\n",
       "      <th>geboortes per dag</th>\n",
       "      <th>is_unisex</th>\n",
       "    </tr>\n",
       "  </thead>\n",
       "  <tbody>\n",
       "    <tr>\n",
       "      <th>0</th>\n",
       "      <td>Namen</td>\n",
       "      <td>Sabrina</td>\n",
       "      <td>Vrouwelijk</td>\n",
       "      <td>2018-12-30</td>\n",
       "      <td>2019-01-02</td>\n",
       "      <td>2.0</td>\n",
       "      <td>310.0</td>\n",
       "      <td>False</td>\n",
       "    </tr>\n",
       "    <tr>\n",
       "      <th>1</th>\n",
       "      <td>Waregem</td>\n",
       "      <td>Steven</td>\n",
       "      <td>Mannelijk</td>\n",
       "      <td>2019-01-07</td>\n",
       "      <td>2019-01-02</td>\n",
       "      <td>2.0</td>\n",
       "      <td>310.0</td>\n",
       "      <td>False</td>\n",
       "    </tr>\n",
       "    <tr>\n",
       "      <th>2</th>\n",
       "      <td>Lokeren</td>\n",
       "      <td>Luc</td>\n",
       "      <td>Mannelijk</td>\n",
       "      <td>2018-12-27</td>\n",
       "      <td>2019-01-02</td>\n",
       "      <td>2.0</td>\n",
       "      <td>310.0</td>\n",
       "      <td>False</td>\n",
       "    </tr>\n",
       "    <tr>\n",
       "      <th>3</th>\n",
       "      <td>Nijlen</td>\n",
       "      <td>Eric</td>\n",
       "      <td>Mannelijk</td>\n",
       "      <td>2019-01-02</td>\n",
       "      <td>2019-01-02</td>\n",
       "      <td>2.0</td>\n",
       "      <td>310.0</td>\n",
       "      <td>False</td>\n",
       "    </tr>\n",
       "    <tr>\n",
       "      <th>4</th>\n",
       "      <td>Aat</td>\n",
       "      <td>Catherine</td>\n",
       "      <td>Vrouwelijk</td>\n",
       "      <td>2019-01-01</td>\n",
       "      <td>2019-01-02</td>\n",
       "      <td>2.0</td>\n",
       "      <td>310.0</td>\n",
       "      <td>False</td>\n",
       "    </tr>\n",
       "  </tbody>\n",
       "</table>\n",
       "</div>"
      ],
      "text/plain": [
       "  gemeente       naam    geslacht verwachte datum geboortedatum  \\\n",
       "0    Namen    Sabrina  Vrouwelijk      2018-12-30    2019-01-02   \n",
       "1  Waregem     Steven   Mannelijk      2019-01-07    2019-01-02   \n",
       "2  Lokeren        Luc   Mannelijk      2018-12-27    2019-01-02   \n",
       "3   Nijlen       Eric   Mannelijk      2019-01-02    2019-01-02   \n",
       "4      Aat  Catherine  Vrouwelijk      2019-01-01    2019-01-02   \n",
       "\n",
       "   dag van het jaar  geboortes per dag  is_unisex  \n",
       "0               2.0              310.0      False  \n",
       "1               2.0              310.0      False  \n",
       "2               2.0              310.0      False  \n",
       "3               2.0              310.0      False  \n",
       "4               2.0              310.0      False  "
      ]
     },
     "execution_count": 25,
     "metadata": {},
     "output_type": "execute_result"
    }
   ],
   "source": [
    "# Om te tellen hoeveel de unisex-namen voorkomen, ga ik een extra kolom toevoegen aan het dataframe: 'is_unisex'\n",
    "# We gaan dus een nieuwe kolom aanmaken en dan terug over het hele dataframe loopen.\n",
    "# Als we een naam tegenkomen die in onze lijst staat met unisex-namen, gaan we kolom 'is_unisex' omzetten naar True\n",
    "\n",
    "df['is_unisex'] = False # nieuwe kolom aanmaken (boolean)\n",
    "\n",
    "\n",
    "for i, row in df.iterrows():\n",
    "    if row['naam'] in unisex_namen:\n",
    "        df.loc[i, 'is_unisex'] = True\n",
    "\n",
    "df.head()"
   ]
  },
  {
   "cell_type": "code",
   "execution_count": 26,
   "metadata": {},
   "outputs": [],
   "source": [
    "# Ik ga een dataframe aanmaken met daarin enkel de geboortes van kinderen met unisex namen\n",
    "\n",
    "df_unisex = df[df['is_unisex'] == True]\n",
    "\n",
    "# En dan ook nog eens voor mannen en vrouwen apart\n",
    "df_unisex_mannen = df_unisex[df_unisex['geslacht'] == 'Mannelijk']\n",
    "df_unisex_vrouwen = df_unisex[df_unisex['geslacht'] == 'Vrouwelijk']"
   ]
  },
  {
   "cell_type": "code",
   "execution_count": 27,
   "metadata": {},
   "outputs": [
    {
     "name": "stdout",
     "output_type": "stream",
     "text": [
      "De meest popuaire unisex namen:\n",
      "naam\n",
      "Dominique    390\n",
      "Maxime       206\n",
      "Robin        189\n",
      "Name: count, dtype: int64\n",
      "\n",
      "De meest popuaire unisex namen bij mannen:\n",
      "naam\n",
      "Maxime    200\n",
      "Robin     181\n",
      "Claude    165\n",
      "Name: count, dtype: int64\n",
      "\n",
      "De meest popuaire unisex namen bij vrouwen:\n",
      "naam\n",
      "Dominique    230\n",
      "Camille      160\n",
      "Kim          113\n",
      "Name: count, dtype: int64\n"
     ]
    }
   ],
   "source": [
    "# En nu via value_counts eens kijken welke namen het vaakst voorkomen.\n",
    "\n",
    "top_3 = df_unisex['naam'].value_counts().head(3)\n",
    "top_3_mannen = df_unisex_mannen['naam'].value_counts().head(3)\n",
    "top_3_vrouwen = df_unisex_vrouwen['naam'].value_counts().head(3)\n",
    "\n",
    "print('De meest popuaire unisex namen:')\n",
    "print(top_3)\n",
    "print('\\nDe meest popuaire unisex namen bij mannen:')\n",
    "print(top_3_mannen)\n",
    "print('\\nDe meest popuaire unisex namen bij vrouwen:')\n",
    "print(top_3_vrouwen)"
   ]
  },
  {
   "cell_type": "code",
   "execution_count": null,
   "metadata": {},
   "outputs": [],
   "source": []
  },
  {
   "cell_type": "code",
   "execution_count": null,
   "metadata": {},
   "outputs": [],
   "source": []
  },
  {
   "cell_type": "markdown",
   "metadata": {},
   "source": [
    "We zien dat er een vrij groot aantal namen veel meer voorkomen bij mannen dan vrouwen (en omgekeerd). Dit vinden we eigenlijk geen \"echte\" unisex namen. We noemen een naam \"echt unisex\" als de naam niet meer dan 50% meer voorkomt bij 1 van de 2 geslachten. Dus als er `x` mannen en `y` vrouwen zijn genaamd Chris, dan noemen we Chris \"echt unisex\" als `x <= 1.5 * y` en `y <= x * 1.5`. Filter je unisex dataframe tot een `df_real_unisex` waarbij je enkel de \"echte\" unisex namen weerhoudt. \n",
    "- Beantwoord nu bovenstaande 3 vragen opnieuw voor deze dataset. Hierbij werk je best met een functie zodat je geen code moet herhalen!\n",
    "- Zijn de echte unisex namen populairder bij mannen of vrouwen, of is de populariteit hetzelfde? Deze vraag kan je beantwoorden door te kijken naar het percentage mannen/vrouwen met een echte unisex naam."
   ]
  },
  {
   "cell_type": "code",
   "execution_count": 28,
   "metadata": {},
   "outputs": [
    {
     "name": "stderr",
     "output_type": "stream",
     "text": [
      "C:\\Users\\Carl\\AppData\\Local\\Temp\\ipykernel_50996\\3308141386.py:4: SettingWithCopyWarning: \n",
      "A value is trying to be set on a copy of a slice from a DataFrame.\n",
      "Try using .loc[row_indexer,col_indexer] = value instead\n",
      "\n",
      "See the caveats in the documentation: https://pandas.pydata.org/pandas-docs/stable/user_guide/indexing.html#returning-a-view-versus-a-copy\n",
      "  df_unisex['naam_count_mannelijk'] = df_unisex[df_unisex['geslacht'] == 'Mannelijk'].groupby('naam')['naam'].count()\n",
      "C:\\Users\\Carl\\AppData\\Local\\Temp\\ipykernel_50996\\3308141386.py:5: SettingWithCopyWarning: \n",
      "A value is trying to be set on a copy of a slice from a DataFrame.\n",
      "Try using .loc[row_indexer,col_indexer] = value instead\n",
      "\n",
      "See the caveats in the documentation: https://pandas.pydata.org/pandas-docs/stable/user_guide/indexing.html#returning-a-view-versus-a-copy\n",
      "  df_unisex['naam_count_vrouwelijk'] = df_unisex[df_unisex['geslacht'] == 'Vrouwelijk'].groupby('naam')['naam'].count()\n"
     ]
    }
   ],
   "source": [
    "# Ik maak een kolom aan waarbij ik aangeef hoe vaak een naam voorkomt bij mannen en een kolom die weergeeft hoe vaak die voorkomt bij vrouwen.\n",
    "\n",
    "\n",
    "df_unisex['naam_count_mannelijk'] = df_unisex[df_unisex['geslacht'] == 'Mannelijk'].groupby('naam')['naam'].count()\n",
    "df_unisex['naam_count_vrouwelijk'] = df_unisex[df_unisex['geslacht'] == 'Vrouwelijk'].groupby('naam')['naam'].count()\n"
   ]
  },
  {
   "cell_type": "code",
   "execution_count": 29,
   "metadata": {},
   "outputs": [
    {
     "data": {
      "text/html": [
       "<div>\n",
       "<style scoped>\n",
       "    .dataframe tbody tr th:only-of-type {\n",
       "        vertical-align: middle;\n",
       "    }\n",
       "\n",
       "    .dataframe tbody tr th {\n",
       "        vertical-align: top;\n",
       "    }\n",
       "\n",
       "    .dataframe thead th {\n",
       "        text-align: right;\n",
       "    }\n",
       "</style>\n",
       "<table border=\"1\" class=\"dataframe\">\n",
       "  <thead>\n",
       "    <tr style=\"text-align: right;\">\n",
       "      <th></th>\n",
       "      <th>gemeente</th>\n",
       "      <th>naam</th>\n",
       "      <th>geslacht</th>\n",
       "      <th>verwachte datum</th>\n",
       "      <th>geboortedatum</th>\n",
       "      <th>dag van het jaar</th>\n",
       "      <th>geboortes per dag</th>\n",
       "      <th>is_unisex</th>\n",
       "      <th>naam_count_mannelijk</th>\n",
       "      <th>naam_count_vrouwelijk</th>\n",
       "    </tr>\n",
       "  </thead>\n",
       "  <tbody>\n",
       "    <tr>\n",
       "      <th>11</th>\n",
       "      <td>Jemeppe-sur-Sambre</td>\n",
       "      <td>Yannick</td>\n",
       "      <td>Mannelijk</td>\n",
       "      <td>2018-12-31</td>\n",
       "      <td>2019-01-02</td>\n",
       "      <td>2.0</td>\n",
       "      <td>310.0</td>\n",
       "      <td>True</td>\n",
       "      <td>NaN</td>\n",
       "      <td>NaN</td>\n",
       "    </tr>\n",
       "    <tr>\n",
       "      <th>21</th>\n",
       "      <td>Zoersel</td>\n",
       "      <td>Kim</td>\n",
       "      <td>Vrouwelijk</td>\n",
       "      <td>2019-01-06</td>\n",
       "      <td>2019-01-02</td>\n",
       "      <td>2.0</td>\n",
       "      <td>310.0</td>\n",
       "      <td>True</td>\n",
       "      <td>NaN</td>\n",
       "      <td>NaN</td>\n",
       "    </tr>\n",
       "    <tr>\n",
       "      <th>35</th>\n",
       "      <td>Vielsalm</td>\n",
       "      <td>Camille</td>\n",
       "      <td>Vrouwelijk</td>\n",
       "      <td>2019-01-12</td>\n",
       "      <td>2019-01-02</td>\n",
       "      <td>2.0</td>\n",
       "      <td>310.0</td>\n",
       "      <td>True</td>\n",
       "      <td>NaN</td>\n",
       "      <td>NaN</td>\n",
       "    </tr>\n",
       "    <tr>\n",
       "      <th>46</th>\n",
       "      <td>Doornik</td>\n",
       "      <td>Sacha</td>\n",
       "      <td>Mannelijk</td>\n",
       "      <td>2019-01-05</td>\n",
       "      <td>2019-01-02</td>\n",
       "      <td>2.0</td>\n",
       "      <td>310.0</td>\n",
       "      <td>True</td>\n",
       "      <td>NaN</td>\n",
       "      <td>NaN</td>\n",
       "    </tr>\n",
       "    <tr>\n",
       "      <th>65</th>\n",
       "      <td>Herstal</td>\n",
       "      <td>Noa</td>\n",
       "      <td>Mannelijk</td>\n",
       "      <td>2018-12-28</td>\n",
       "      <td>2019-01-02</td>\n",
       "      <td>2.0</td>\n",
       "      <td>310.0</td>\n",
       "      <td>True</td>\n",
       "      <td>NaN</td>\n",
       "      <td>NaN</td>\n",
       "    </tr>\n",
       "  </tbody>\n",
       "</table>\n",
       "</div>"
      ],
      "text/plain": [
       "              gemeente     naam    geslacht verwachte datum geboortedatum  \\\n",
       "11  Jemeppe-sur-Sambre  Yannick   Mannelijk      2018-12-31    2019-01-02   \n",
       "21             Zoersel      Kim  Vrouwelijk      2019-01-06    2019-01-02   \n",
       "35            Vielsalm  Camille  Vrouwelijk      2019-01-12    2019-01-02   \n",
       "46             Doornik    Sacha   Mannelijk      2019-01-05    2019-01-02   \n",
       "65             Herstal      Noa   Mannelijk      2018-12-28    2019-01-02   \n",
       "\n",
       "    dag van het jaar  geboortes per dag  is_unisex  naam_count_mannelijk  \\\n",
       "11               2.0              310.0       True                   NaN   \n",
       "21               2.0              310.0       True                   NaN   \n",
       "35               2.0              310.0       True                   NaN   \n",
       "46               2.0              310.0       True                   NaN   \n",
       "65               2.0              310.0       True                   NaN   \n",
       "\n",
       "    naam_count_vrouwelijk  \n",
       "11                    NaN  \n",
       "21                    NaN  \n",
       "35                    NaN  \n",
       "46                    NaN  \n",
       "65                    NaN  "
      ]
     },
     "execution_count": 29,
     "metadata": {},
     "output_type": "execute_result"
    }
   ],
   "source": [
    "df_unisex.head()"
   ]
  },
  {
   "cell_type": "code",
   "execution_count": 30,
   "metadata": {},
   "outputs": [],
   "source": [
    "# Die code werkt dus niet. Geen tijd meer om andere zaken te proberen."
   ]
  },
  {
   "cell_type": "code",
   "execution_count": 31,
   "metadata": {},
   "outputs": [
    {
     "name": "stderr",
     "output_type": "stream",
     "text": [
      "C:\\Users\\Carl\\AppData\\Local\\Temp\\ipykernel_50996\\596332649.py:2: SettingWithCopyWarning: \n",
      "A value is trying to be set on a copy of a slice from a DataFrame.\n",
      "Try using .loc[row_indexer,col_indexer] = value instead\n",
      "\n",
      "See the caveats in the documentation: https://pandas.pydata.org/pandas-docs/stable/user_guide/indexing.html#returning-a-view-versus-a-copy\n",
      "  df_unisex['echte_unisex_naam'] = True\n"
     ]
    },
    {
     "ename": "NameError",
     "evalue": "name 'unisex' is not defined",
     "output_type": "error",
     "traceback": [
      "\u001b[1;31m---------------------------------------------------------------------------\u001b[0m",
      "\u001b[1;31mNameError\u001b[0m                                 Traceback (most recent call last)",
      "Cell \u001b[1;32mIn[31], line 5\u001b[0m\n\u001b[0;32m      2\u001b[0m df_unisex[\u001b[38;5;124m'\u001b[39m\u001b[38;5;124mechte_unisex_naam\u001b[39m\u001b[38;5;124m'\u001b[39m] \u001b[38;5;241m=\u001b[39m \u001b[38;5;28;01mTrue\u001b[39;00m\n\u001b[0;32m      4\u001b[0m \u001b[38;5;28;01mfor\u001b[39;00m i, row \u001b[38;5;129;01min\u001b[39;00m df_unisex\u001b[38;5;241m.\u001b[39miterrows():\n\u001b[1;32m----> 5\u001b[0m     \u001b[38;5;28;01mif\u001b[39;00m df_unisex[\u001b[38;5;124m'\u001b[39m\u001b[38;5;124mnaam_count_mannelijk\u001b[39m\u001b[38;5;124m'\u001b[39m] \u001b[38;5;241m<\u001b[39m\u001b[38;5;241m=\u001b[39m (\u001b[38;5;241m1.5\u001b[39m \u001b[38;5;241m*\u001b[39m unisex[\u001b[38;5;124m'\u001b[39m\u001b[38;5;124mnaam_count_vrouwelijk\u001b[39m\u001b[38;5;124m'\u001b[39m]) \u001b[38;5;129;01mand\u001b[39;00m df_unisex[\u001b[38;5;124m'\u001b[39m\u001b[38;5;124mnaam_count_vrouwelijk\u001b[39m\u001b[38;5;124m'\u001b[39m] \u001b[38;5;241m<\u001b[39m\u001b[38;5;241m=\u001b[39m (\u001b[38;5;241m1.5\u001b[39m \u001b[38;5;241m*\u001b[39m unisex[\u001b[38;5;124m'\u001b[39m\u001b[38;5;124mnaam_count_mannelijk\u001b[39m\u001b[38;5;124m'\u001b[39m]):\n\u001b[0;32m      6\u001b[0m         df_unisex\u001b[38;5;241m.\u001b[39mloc[i, \u001b[38;5;124m'\u001b[39m\u001b[38;5;124mechte_unisex_naam\u001b[39m\u001b[38;5;124m'\u001b[39m] \u001b[38;5;241m=\u001b[39m \u001b[38;5;28;01mFalse\u001b[39;00m\n",
      "\u001b[1;31mNameError\u001b[0m: name 'unisex' is not defined"
     ]
    }
   ],
   "source": [
    "# In een derde kolom zou ik dan nog de verhouding bekijken en bepalen welke namen écht unisex zijn. Zo iets:\n",
    "df_unisex['echte_unisex_naam'] = True\n",
    "\n",
    "for i, row in df_unisex.iterrows():\n",
    "    if df_unisex['naam_count_mannelijk'] <= (1.5 * unisex['naam_count_vrouwelijk']) and df_unisex['naam_count_vrouwelijk'] <= (1.5 * unisex['naam_count_mannelijk']):\n",
    "        df_unisex.loc[i, 'echte_unisex_naam'] = False"
   ]
  },
  {
   "cell_type": "code",
   "execution_count": null,
   "metadata": {},
   "outputs": [],
   "source": []
  },
  {
   "cell_type": "code",
   "execution_count": null,
   "metadata": {},
   "outputs": [],
   "source": []
  },
  {
   "cell_type": "code",
   "execution_count": null,
   "metadata": {},
   "outputs": [],
   "source": []
  },
  {
   "cell_type": "markdown",
   "metadata": {},
   "source": [
    "#### Visualizatie\n",
    "\n",
    "Maak een visualizatie die alle echte unisex namen toont en de relatieve voorkomens bij mannen en vrouwen."
   ]
  },
  {
   "cell_type": "code",
   "execution_count": null,
   "metadata": {},
   "outputs": [],
   "source": []
  },
  {
   "cell_type": "markdown",
   "metadata": {},
   "source": [
    "### Onderzoek 2: de accuraatheid van de geschatte bevallingsdatum\n",
    "#### Evolutie vergelijken\n",
    "\n",
    "Maak een afbeelding van het totaal aantal geboortes per dag en het totaal aantal verwachte geboortes.\n",
    "\n",
    "**Bonusvraag**: Gewoon om over na te denken: waarom zien de uiteindes van je plot er wat gek uit? Schrijf het antwoord neer in een strategisch geplaatste markdown cel."
   ]
  },
  {
   "cell_type": "code",
   "execution_count": null,
   "metadata": {},
   "outputs": [],
   "source": []
  },
  {
   "cell_type": "code",
   "execution_count": null,
   "metadata": {},
   "outputs": [],
   "source": []
  },
  {
   "cell_type": "markdown",
   "metadata": {},
   "source": [
    "#### Verbanden bekijken\n",
    "Maak een histogram van het aantal dagen dat babies te vroeg geboren werden in 2019 en een scatterplot die het verband toont tussen de verwachte en effectieve geboortedatum."
   ]
  },
  {
   "cell_type": "code",
   "execution_count": null,
   "metadata": {},
   "outputs": [],
   "source": []
  },
  {
   "cell_type": "code",
   "execution_count": null,
   "metadata": {},
   "outputs": [],
   "source": []
  },
  {
   "cell_type": "markdown",
   "metadata": {},
   "source": [
    "### Onderzoek 3: Aantal namen versus aantal babies\n",
    "Naarmate dat er meer babies geboren worden, gaan deze ook meer verschillende namen krijgen. Zolang er weinig babies geboren worden lijkt het logisch dat dit verband min of meer lineair is, maar naarmate dat er meer en meer babies geboren worden lijkt het niet meer logisch dat dit verband lineair blijft. We verwachten bijvoorbeeld niet dat het aantal unieke namen gegeven aan 2 miljoen babies het dubbel is van het aantal unieke namen gegeven aan 1 miljoen babies. Kan je op basis van deze dataset het verband tussen het aantal unieke namen in functie van het aantal babies eens onderzoeken? Hiervoor krijg je geen voorstel tot visualizatie maar moet je zelf mij proberen te overtuigen van je antwoord."
   ]
  },
  {
   "cell_type": "code",
   "execution_count": null,
   "metadata": {},
   "outputs": [],
   "source": []
  }
 ],
 "metadata": {
  "kernelspec": {
   "display_name": "Python 3 (ipykernel)",
   "language": "python",
   "name": "python3"
  },
  "language_info": {
   "codemirror_mode": {
    "name": "ipython",
    "version": 3
   },
   "file_extension": ".py",
   "mimetype": "text/x-python",
   "name": "python",
   "nbconvert_exporter": "python",
   "pygments_lexer": "ipython3",
   "version": "3.11.7"
  }
 },
 "nbformat": 4,
 "nbformat_minor": 4
}
